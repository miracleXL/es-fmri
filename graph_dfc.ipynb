{
 "cells": [
  {
   "cell_type": "code",
   "execution_count": 1,
   "metadata": {},
   "outputs": [],
   "source": [
    "from nilearn import datasets\n",
    "import pickle\n",
    "import json\n",
    "import numpy as np\n",
    "import networkx as nx\n",
    "# from scipy import stats\n",
    "from statsmodels.stats import nonparametric\n",
    "from statsmodels.tsa import stattools\n",
    "from multiprocessing import Pool\n",
    "import os\n",
    "from esfMRI import stats_tests, plot_graph_measures, get_periods\n",
    "from graph import multi_process"
   ]
  },
  {
   "cell_type": "code",
   "execution_count": 2,
   "metadata": {},
   "outputs": [],
   "source": [
    "filename = \"60\"\n",
    "os.makedirs(f\"graph_theory/{filename}\", exist_ok=True)\n",
    "atlas_labels = datasets.fetch_atlas_aal()['labels']\n",
    "threshold = 50"
   ]
  },
  {
   "cell_type": "code",
   "execution_count": null,
   "metadata": {},
   "outputs": [],
   "source": [
    "with open(f\"dFC/{filename}dFCs.pkl\", \"rb\") as f:\n",
    "    dFCs = pickle.load(f)"
   ]
  },
  {
   "cell_type": "code",
   "execution_count": null,
   "metadata": {},
   "outputs": [
    {
     "name": "stdout",
     "output_type": "stream",
     "text": [
      "全部计算完成，正在保存...\n",
      "保存完成\n"
     ]
    }
   ],
   "source": [
    "save_path = f\"graph_theory/dFC/{filename}\"\n",
    "os.makedirs(save_path, exist_ok=True)\n",
    "with Pool(5) as pool:\n",
    "    tasks = pool.starmap(multi_process, [[dFCs[sub], sub, threshold, save_path] for sub in dFCs])\n",
    "graphs = {sub:graph for graph, sub in tasks}\n",
    "print(\"全部计算完成，正在保存...\")\n",
    "with open(f\"graph_theory/dFC/{filename}_graphs.pkl\", \"wb\") as f:\n",
    "    pickle.dump(graphs, f)\n",
    "print(\"保存完成\")"
   ]
  },
  {
   "cell_type": "code",
   "execution_count": 2,
   "metadata": {},
   "outputs": [],
   "source": [
    "filename = 60\n",
    "with open(f\"graph_theory/dFC/{filename}_graphs.pkl\", \"rb\") as f:\n",
    "# with open(f\"graph_theory/dFC/sub-292.pkl\", \"rb\") as f:\n",
    "    graphs = pickle.load(f)"
   ]
  },
  {
   "cell_type": "code",
   "execution_count": 3,
   "metadata": {},
   "outputs": [],
   "source": [
    "keys = ['k_core', 'clustering', 'modularity', 'degree_assortativity_coefficient', 'global_efficiency', 'local_efficiency', 'ratio']"
   ]
  },
  {
   "cell_type": "code",
   "execution_count": null,
   "metadata": {},
   "outputs": [],
   "source": [
    "# 对每个参数、每个被试应用统计学分析\n",
    "stationary = {}\n",
    "adfs = {}\n",
    "kpsss = {}\n",
    "unknown = []\n",
    "for key in keys:\n",
    "    stationary[key] = {}\n",
    "    adfs[key] = {}\n",
    "    kpsss[key] = {}\n",
    "    for sub in graphs:\n",
    "        stationary[key][sub] = {\"ses-preop\":{}, \"ses-postop\":{}}\n",
    "        adfs[key][sub] = {\"ses-preop\":{}, \"ses-postop\":{}}\n",
    "        kpsss[key][sub] = {\"ses-preop\":{}, \"ses-postop\":{}}\n",
    "        for run in graphs[sub][\"ses-preop\"]:\n",
    "            measures = []\n",
    "            for graph in graphs[sub][\"ses-preop\"][run]:\n",
    "                if key == \"clustering\":\n",
    "                    measures.append(sum(graph[key].values())/116)\n",
    "                elif not np.isnan(graph[key]):\n",
    "                    measures.append(graph[key])\n",
    "            try:\n",
    "                # ADF检验。H0：存在单位根，序列不平稳；H1：不存在单位根，序列平稳\n",
    "                adf, p_value, usedlag, nobs, critical_values, icbest = stattools.adfuller(measures)\n",
    "                adfs[key][sub][\"ses-preop\"][run] = p_value\n",
    "                # KPSS检验。H0：序列平稳；H1：序列不平稳\n",
    "                kpss, kp_value, lags, crit = stattools.kpss(measures)\n",
    "                kpsss[key][sub][\"ses-preop\"][run] = kp_value\n",
    "                if p_value < 0.05 and kp_value > 0.05:\n",
    "                    stationary[key][sub][\"ses-preop\"][run] = True\n",
    "                elif p_value > 0.05 and kp_value < 0.05:\n",
    "                    stationary[key][sub][\"ses-preop\"][run] = False\n",
    "                else:\n",
    "                    unknown.append([sub, \"ses-preop\", run])\n",
    "            except Exception as e:\n",
    "                # print(e)\n",
    "                stationary[key][sub][\"ses-preop\"][run] = None\n",
    "        for run in graphs[sub][\"ses-postop\"]:\n",
    "            measures = []\n",
    "            for graph in graphs[sub][\"ses-postop\"][run]:\n",
    "                if key == \"clustering\":\n",
    "                    measures.append(sum(graph[key].values())/116)\n",
    "                elif not np.isnan(graph[key]):\n",
    "                    measures.append(graph[key])\n",
    "            try:\n",
    "                adf, pvalue, usedlag, nobs, critical_values, icbest = stattools.adfuller(measures)\n",
    "                adfs[key][sub][\"ses-postop\"][run] = p_value\n",
    "                kpss, kp_value, lags, crit = stattools.kpss(measures)\n",
    "                kpsss[key][sub][\"ses-postop\"][run] = kp_value\n",
    "                if p_value < 0.05 and kp_value > 0.05:\n",
    "                    stationary[key][sub][\"ses-postop\"][run] = True\n",
    "                elif p_value > 0.05 and kp_value < 0.05:\n",
    "                    stationary[key][sub][\"ses-postop\"][run] = False\n",
    "                else:\n",
    "                    unknown.append([sub, \"ses-postop\", run])\n",
    "            except Exception as e:\n",
    "                # print(e)\n",
    "                stationary[key][sub][\"ses-postop\"][run] = None\n",
    "with open(\"stationary.json\", \"w\") as f:\n",
    "    json.dump(stationary, f)"
   ]
  },
  {
   "cell_type": "code",
   "execution_count": 4,
   "metadata": {},
   "outputs": [],
   "source": [
    "# 对每个参数、每个被试应用统计学分析\n",
    "no_changed = {}\n",
    "change = {}\n",
    "for key in keys:\n",
    "    no_changed[key] = []\n",
    "    change[key] = {}\n",
    "    for sub in graphs:\n",
    "        measures_preop = []\n",
    "        measures_postop = []\n",
    "        for run in graphs[sub][\"ses-preop\"]:\n",
    "            for graph in graphs[sub][\"ses-preop\"][run]:\n",
    "                if key == \"clustering\":\n",
    "                    measures_preop.append(sum(graph[key].values())/116)\n",
    "                elif not np.isnan(graph[key]):\n",
    "                    measures_preop.append(graph[key])\n",
    "        for run in graphs[sub][\"ses-postop\"]:\n",
    "            for graph in graphs[sub][\"ses-postop\"][run]:\n",
    "                if key == \"clustering\":\n",
    "                    measures_postop.append(sum(graph[key].values())/116)\n",
    "                elif not np.isnan(graph[key]):\n",
    "                    measures_postop.append(graph[key])\n",
    "        p_values = stats_tests(measures_preop, measures_postop, False)\n",
    "        if np.any(p_values[4:5] > 0.05):\n",
    "            no_changed[key].append(sub)\n",
    "        else:\n",
    "            change[key][sub] = {}\n",
    "            change[key][sub][\"rank_cmp\"] = nonparametric.rank_compare_2indep(measures_preop, measures_postop).tuple\n",
    "            change[key][sub][\"change\"] = \"up\" if change[key][sub][\"rank_cmp\"][0] < 0 else \"down\"\n",
    "with open(f\"graph_theory/{filename}/no_changed_dFC.json\", \"w\") as f:\n",
    "    json.dump(no_changed, f, indent=4)\n",
    "with open(f\"graph_theory/{filename}/changed_dFC.json\", \"w\") as f:\n",
    "    json.dump(change, f, indent=4)"
   ]
  },
  {
   "cell_type": "code",
   "execution_count": 10,
   "metadata": {},
   "outputs": [
    {
     "name": "stdout",
     "output_type": "stream",
     "text": [
      "sub-303\n",
      "sub-320\n",
      "sub-334\n",
      "sub-352\n",
      "k_core \tup: 4 down:  16\n",
      "sub-303\n",
      "sub-320\n",
      "sub-334\n",
      "sub-352\n",
      "clustering \tup: 4 down:  16\n",
      "modularity \tup: 13 down:  7\n",
      "degree_assortativity_coefficient \tup: 4 down:  12\n",
      "sub-303\n",
      "sub-320\n",
      "sub-334\n",
      "sub-352\n",
      "global_efficiency \tup: 4 down:  16\n",
      "sub-303\n",
      "sub-320\n",
      "sub-334\n",
      "sub-352\n",
      "local_efficiency \tup: 4 down:  16\n",
      "ratio \tup: 16 down:  2\n"
     ]
    }
   ],
   "source": [
    "for key in keys:\n",
    "    cnt_up = 0\n",
    "    cnt_down = 0\n",
    "    for sub in change[key]:\n",
    "        if change[key][sub][\"change\"] == \"up\":\n",
    "            cnt_up += 1\n",
    "            if key != \"modularity\" and key != \"degree_assortativity_coefficient\" and key != \"ratio\":\n",
    "                print(sub)\n",
    "        else:\n",
    "            cnt_down += 1\n",
    "    print(key, \"\\tup:\", cnt_up, \"down: \", cnt_down)"
   ]
  },
  {
   "cell_type": "code",
   "execution_count": 9,
   "metadata": {},
   "outputs": [
    {
     "name": "stdout",
     "output_type": "stream",
     "text": [
      "k_core\n",
      "(49.00559439969875, 0.0)\n",
      "\n",
      "clustering\n",
      "(58.3535228339455, 0.0)\n",
      "\n"
     ]
    },
    {
     "name": "stderr",
     "output_type": "stream",
     "text": [
      "c:\\Users\\12500\\MiniConda3\\envs\\py311\\Lib\\site-packages\\scipy\\stats\\_morestats.py:1882: UserWarning: p-value may not be accurate for N > 5000.\n",
      "  warnings.warn(\"p-value may not be accurate for N > 5000.\")\n"
     ]
    },
    {
     "name": "stdout",
     "output_type": "stream",
     "text": [
      "modularity\n",
      "(-23.867663981295447, 2.6560391418747775e-122)\n",
      "\n",
      "degree_assortativity_coefficient\n",
      "(7.347009244358477, 2.1358948284837715e-13)\n",
      "\n",
      "global_efficiency\n",
      "(58.33093527915202, 0.0)\n",
      "\n",
      "local_efficiency\n",
      "(58.41496580458525, 0.0)\n",
      "\n",
      "ratio\n",
      "(-32.739858428418415, 9.371298949000868e-227)\n",
      "\n"
     ]
    }
   ],
   "source": [
    "# 对每个参数整体应用统计学分析\n",
    "for key in keys:\n",
    "    measures_preop = []\n",
    "    measures_postop = []\n",
    "    for sub in graphs:\n",
    "        for run in graphs[sub][\"ses-preop\"]:\n",
    "            for graph in graphs[sub][\"ses-preop\"][run]:\n",
    "                if key == \"clustering\":\n",
    "                    measures_preop.append(sum(graph[key].values())/116)\n",
    "                elif not np.isnan(graph[key]):\n",
    "                    measures_preop.append(graph[key])\n",
    "        for run in graphs[sub][\"ses-postop\"]:\n",
    "            for graph in graphs[sub][\"ses-postop\"][run]:\n",
    "                if key == \"clustering\":\n",
    "                    measures_postop.append(sum(graph[key].values())/116)\n",
    "                elif not np.isnan(graph[key]):\n",
    "                    measures_postop.append(graph[key])\n",
    "    p_values = stats_tests(measures_preop, measures_postop, False)\n",
    "    if np.any(p_values[4:5] > 0.05):\n",
    "        print(key, \"无明显变化\", p_values)\n",
    "    else:\n",
    "        print(key)\n",
    "        print(nonparametric.rank_compare_2indep(measures_preop, measures_postop).tuple)\n",
    "    print()"
   ]
  },
  {
   "cell_type": "code",
   "execution_count": 5,
   "metadata": {},
   "outputs": [],
   "source": [
    "# 绘制参数变化\n",
    "for key in keys:\n",
    "    save_path = f\"graph_theory/{filename}/{key}\"\n",
    "    os.makedirs(save_path, exist_ok=True)\n",
    "    for sub in graphs:\n",
    "        measures_preop = {}\n",
    "        measures_postop = {}\n",
    "        for run in graphs[sub][\"ses-preop\"]:\n",
    "            measures_preop[run] = []\n",
    "            for graph in graphs[sub][\"ses-preop\"][run]:\n",
    "                if key == \"clustering\":\n",
    "                    measures_preop[run].append(sum(graph[key].values())/116)\n",
    "                elif not np.isnan(graph[key]):\n",
    "                    measures_preop[run].append(graph[key])\n",
    "        for run in graphs[sub][\"ses-postop\"]:\n",
    "            measures_postop[run] = []\n",
    "            for graph in graphs[sub][\"ses-postop\"][run]:\n",
    "                if key == \"clustering\":\n",
    "                    measures_postop[run].append(sum(graph[key].values())/116)\n",
    "                elif not np.isnan(graph[key]):\n",
    "                    measures_postop[run].append(graph[key])\n",
    "        plot_graph_measures(measures_preop, measures_postop, key, f\"{save_path}/{sub}.png\")"
   ]
  }
 ],
 "metadata": {
  "kernelspec": {
   "display_name": "base",
   "language": "python",
   "name": "python3"
  },
  "language_info": {
   "codemirror_mode": {
    "name": "ipython",
    "version": 3
   },
   "file_extension": ".py",
   "mimetype": "text/x-python",
   "name": "python",
   "nbconvert_exporter": "python",
   "pygments_lexer": "ipython3",
   "version": "3.11.3"
  },
  "orig_nbformat": 4,
  "vscode": {
   "interpreter": {
    "hash": "14da249aea668dd476485a6222a8c1fd2f2cd90c7005afa5442c69b6c853f2dc"
   }
  }
 },
 "nbformat": 4,
 "nbformat_minor": 2
}

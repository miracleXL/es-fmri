{
 "cells": [
  {
   "cell_type": "code",
   "execution_count": 1,
   "metadata": {},
   "outputs": [],
   "source": [
    "from nilearn import datasets\n",
    "import pickle\n",
    "import json\n",
    "import numpy as np\n",
    "import networkx as nx\n",
    "# from scipy import stats\n",
    "from statsmodels.stats import nonparametric\n",
    "from multiprocessing import Pool\n",
    "import os\n",
    "from esfMRI import stats_tests, plot_graph_measures\n",
    "from graph import multi_process"
   ]
  },
  {
   "cell_type": "code",
   "execution_count": 2,
   "metadata": {},
   "outputs": [],
   "source": [
    "filename = \"60_3\"\n",
    "os.makedirs(f\"graph_theory/{filename}\", exist_ok=True)\n",
    "atlas_labels = datasets.fetch_atlas_aal()['labels']\n",
    "threshold = 50"
   ]
  },
  {
   "cell_type": "code",
   "execution_count": 5,
   "metadata": {},
   "outputs": [],
   "source": [
    "with open(f\"dFC/{filename}dFCs.pkl\", \"rb\") as f:\n",
    "    dFCs = pickle.load(f)"
   ]
  },
  {
   "cell_type": "code",
   "execution_count": 6,
   "metadata": {},
   "outputs": [
    {
     "name": "stdout",
     "output_type": "stream",
     "text": [
      "全部计算完成，正在保存...\n",
      "保存完成\n"
     ]
    }
   ],
   "source": [
    "save_path = f\"graph_theory/pkl/{filename}\"\n",
    "os.makedirs(save_path, exist_ok=True)\n",
    "with Pool(5) as pool:\n",
    "    tasks = pool.starmap(multi_process, [[dFCs[sub], sub, threshold, save_path] for sub in dFCs])\n",
    "graphs = {sub:graph for graph, sub in tasks}\n",
    "print(\"全部计算完成，正在保存...\")\n",
    "with open(f\"graph_theory/pkl/{filename}_graphs.pkl\", \"wb\") as f:\n",
    "    pickle.dump(graphs, f)\n",
    "print(\"保存完成\")"
   ]
  },
  {
   "cell_type": "code",
   "execution_count": 3,
   "metadata": {},
   "outputs": [],
   "source": [
    "with open(f\"graph_theory/pkl/{filename}_graphs.pkl\", \"rb\") as f:\n",
    "    graphs = pickle.load(f)"
   ]
  },
  {
   "cell_type": "code",
   "execution_count": 4,
   "metadata": {},
   "outputs": [],
   "source": [
    "keys = ['k_core', 'clustering', 'transitivity', 'degree_assortativity_coefficient', 'global_efficiency', 'local_efficiency', 'ratio']"
   ]
  },
  {
   "cell_type": "code",
   "execution_count": 5,
   "metadata": {},
   "outputs": [],
   "source": [
    "# 对每个参数、每个被试应用统计学分析\n",
    "no_changed = {}\n",
    "change = {}\n",
    "for key in keys:\n",
    "    no_changed[key] = []\n",
    "    change[key] = {}\n",
    "    for sub in graphs:\n",
    "        measures_preop = []\n",
    "        measures_postop = []\n",
    "        for run in graphs[sub][\"ses-preop\"]:\n",
    "            for graph in graphs[sub][\"ses-preop\"][run]:\n",
    "                if key == \"clustering\":\n",
    "                    measures_preop.append(sum(graph[key].values())/116)\n",
    "                elif not np.isnan(graph[key]):\n",
    "                    measures_preop.append(graph[key])\n",
    "        for run in graphs[sub][\"ses-postop\"]:\n",
    "            for graph in graphs[sub][\"ses-postop\"][run]:\n",
    "                if key == \"clustering\":\n",
    "                    measures_postop.append(sum(graph[key].values())/116)\n",
    "                elif not np.isnan(graph[key]):\n",
    "                    measures_postop.append(graph[key])\n",
    "        p_values = stats_tests(measures_preop, measures_postop, False)\n",
    "        if np.any(p_values[4:5] > 0.05):\n",
    "            no_changed[key].append(sub)\n",
    "        else:\n",
    "            change[key][sub] = {}\n",
    "            change[key][sub][\"rank_cmp\"] = nonparametric.rank_compare_2indep(measures_preop, measures_postop).tuple\n",
    "            change[key][sub][\"change\"] = \"up\" if change[key][sub][\"rank_cmp\"][0] < 0 else \"down\"\n",
    "with open(f\"graph_theory/{filename}/no_changed_dFC.json\", \"w\") as f:\n",
    "    json.dump(no_changed, f, indent=4)\n",
    "with open(f\"graph_theory/{filename}/changed_dFC.json\", \"w\") as f:\n",
    "    json.dump(change, f, indent=4)"
   ]
  },
  {
   "cell_type": "code",
   "execution_count": 6,
   "metadata": {},
   "outputs": [
    {
     "name": "stdout",
     "output_type": "stream",
     "text": [
      "up: 5 down:  15\n",
      "up: 5 down:  15\n",
      "up: 8 down:  12\n",
      "up: 11 down:  9\n",
      "up: 3 down:  17\n",
      "up: 4 down:  16\n",
      "up: 17 down:  3\n"
     ]
    }
   ],
   "source": [
    "for key in keys:\n",
    "    cnt = 0\n",
    "    for sub in change[key]:\n",
    "        cnt += change[key][sub][\"change\"] == \"up\"\n",
    "    print(\"up:\", cnt, \"down: \", len(graphs)-cnt)"
   ]
  },
  {
   "cell_type": "code",
   "execution_count": 7,
   "metadata": {},
   "outputs": [
    {
     "name": "stdout",
     "output_type": "stream",
     "text": [
      "k_core\n",
      "(20.067036742817777, 1.3866987183190551e-86)\n",
      "\n"
     ]
    },
    {
     "name": "stderr",
     "output_type": "stream",
     "text": [
      "c:\\Users\\fjj\\anaconda3\\lib\\site-packages\\scipy\\stats\\morestats.py:1760: UserWarning: p-value may not be accurate for N > 5000.\n",
      "  warnings.warn(\"p-value may not be accurate for N > 5000.\")\n"
     ]
    },
    {
     "name": "stdout",
     "output_type": "stream",
     "text": [
      "clustering\n",
      "(21.48352990957754, 1.5295027909914953e-98)\n",
      "\n",
      "transitivity\n",
      "(12.611725884229802, 5.6117992073869923e-36)\n",
      "\n",
      "degree_assortativity_coefficient\n",
      "(-7.1794330080584885, 7.865168747756571e-13)\n",
      "\n",
      "global_efficiency\n",
      "(28.277420131433914, 7.142553322437408e-165)\n",
      "\n",
      "local_efficiency\n",
      "(25.086763226475764, 7.60117606626352e-132)\n",
      "\n",
      "ratio\n",
      "(-28.887537828127023, 4.540583295117324e-172)\n",
      "\n"
     ]
    }
   ],
   "source": [
    "# 对每个参数整体应用统计学分析\n",
    "for key in keys:\n",
    "    measures_preop = []\n",
    "    measures_postop = []\n",
    "    for sub in graphs:\n",
    "        for run in graphs[sub][\"ses-preop\"]:\n",
    "            for graph in graphs[sub][\"ses-preop\"][run]:\n",
    "                if key == \"clustering\":\n",
    "                    measures_preop.append(sum(graph[key].values())/116)\n",
    "                elif not np.isnan(graph[key]):\n",
    "                    measures_preop.append(graph[key])\n",
    "        for run in graphs[sub][\"ses-postop\"]:\n",
    "            for graph in graphs[sub][\"ses-postop\"][run]:\n",
    "                if key == \"clustering\":\n",
    "                    measures_postop.append(sum(graph[key].values())/116)\n",
    "                elif not np.isnan(graph[key]):\n",
    "                    measures_postop.append(graph[key])\n",
    "    p_values = stats_tests(measures_preop, measures_postop, False)\n",
    "    if np.any(p_values[4:5] > 0.05):\n",
    "        print(key, \"无明显变化\", p_values)\n",
    "    else:\n",
    "        print(key)\n",
    "        print(nonparametric.rank_compare_2indep(measures_preop, measures_postop).tuple)\n",
    "    print()"
   ]
  },
  {
   "cell_type": "code",
   "execution_count": 8,
   "metadata": {},
   "outputs": [],
   "source": [
    "for key in keys:\n",
    "    save_path = f\"graph_theory/{filename}/{key}\"\n",
    "    os.makedirs(save_path, exist_ok=True)\n",
    "    for sub in graphs:\n",
    "        measures_preop = {}\n",
    "        measures_postop = {}\n",
    "        for run in graphs[sub][\"ses-preop\"]:\n",
    "            measures_preop[run] = []\n",
    "            for graph in graphs[sub][\"ses-preop\"][run]:\n",
    "                if key == \"clustering\":\n",
    "                    measures_preop[run].append(sum(graph[key].values())/116)\n",
    "                elif not np.isnan(graph[key]):\n",
    "                    measures_preop[run].append(graph[key])\n",
    "        for run in graphs[sub][\"ses-postop\"]:\n",
    "            measures_postop[run] = []\n",
    "            for graph in graphs[sub][\"ses-postop\"][run]:\n",
    "                if key == \"clustering\":\n",
    "                    measures_postop[run].append(sum(graph[key].values())/116)\n",
    "                elif not np.isnan(graph[key]):\n",
    "                    measures_postop[run].append(graph[key])\n",
    "        plot_graph_measures(measures_preop, measures_postop, key, f\"{save_path}/{sub}.png\")"
   ]
  }
 ],
 "metadata": {
  "kernelspec": {
   "display_name": "base",
   "language": "python",
   "name": "python3"
  },
  "language_info": {
   "codemirror_mode": {
    "name": "ipython",
    "version": 3
   },
   "file_extension": ".py",
   "mimetype": "text/x-python",
   "name": "python",
   "nbconvert_exporter": "python",
   "pygments_lexer": "ipython3",
   "version": "3.9.12"
  },
  "orig_nbformat": 4,
  "vscode": {
   "interpreter": {
    "hash": "14da249aea668dd476485a6222a8c1fd2f2cd90c7005afa5442c69b6c853f2dc"
   }
  }
 },
 "nbformat": 4,
 "nbformat_minor": 2
}

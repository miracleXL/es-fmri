{
 "cells": [
  {
   "cell_type": "code",
   "execution_count": 9,
   "metadata": {},
   "outputs": [],
   "source": [
    "import pickle\n",
    "import copy"
   ]
  },
  {
   "cell_type": "code",
   "execution_count": 10,
   "metadata": {},
   "outputs": [],
   "source": [
    "with open(\"time_series.pkl\", \"rb\") as f:\n",
    "    data:dict = pickle.load(f)\n",
    "cleaned_data = copy.deepcopy(data)"
   ]
  },
  {
   "cell_type": "code",
   "execution_count": 11,
   "metadata": {},
   "outputs": [],
   "source": [
    "limited_time = 120 # 时间长度小于这个值的序列将被删除，单位s"
   ]
  },
  {
   "cell_type": "code",
   "execution_count": 12,
   "metadata": {},
   "outputs": [
    {
     "name": "stdout",
     "output_type": "stream",
     "text": [
      "删除数据：sub-331在电刺激后的run-04\n",
      "删除数据：sub-339缺少电刺激前数据\n",
      "删除数据：sub-357缺少电刺激前数据\n",
      "删除数据：sub-369缺少电刺激前数据\n",
      "删除数据：sub-394缺少电刺激前数据\n",
      "删除数据：sub-395缺少电刺激前数据\n",
      "删除数据：sub-400在电刺激后的run-04\n",
      "删除数据：sub-403缺少电刺激前数据\n"
     ]
    }
   ],
   "source": [
    "for sub, ses in data.items():\n",
    "    if not ses[\"ses-preop\"]:\n",
    "        cleaned_data.pop(sub)\n",
    "        print(f\"删除数据：{sub}缺少电刺激前数据\")\n",
    "        continue\n",
    "    for op, runs in ses.items():\n",
    "        for run, items in runs.items():\n",
    "            if items[\"time_series\"].shape[0]*items[\"TR\"] < limited_time:\n",
    "                cleaned_data[sub][op].pop(run)\n",
    "                print(f\"删除数据：{sub}在电刺激{'前' if op == 'ses-preop' else '后'}的{run}\")"
   ]
  },
  {
   "cell_type": "code",
   "execution_count": 18,
   "metadata": {},
   "outputs": [],
   "source": [
    "with open(\"time_series2.pkl\", \"wb\") as f:\n",
    "    pickle.dump(cleaned_data, f)"
   ]
  },
  {
   "cell_type": "code",
   "execution_count": 13,
   "metadata": {},
   "outputs": [],
   "source": [
    "for sub, ses in cleaned_data.items():\n",
    "    for op, runs in ses.items():\n",
    "        for run, items in runs.items():\n",
    "            items[\"length\"] = items[\"time_series\"].shape[0]*items[\"TR\"]\n",
    "            items.pop(\"time_series\")"
   ]
  },
  {
   "cell_type": "code",
   "execution_count": 14,
   "metadata": {},
   "outputs": [],
   "source": [
    "import json\n",
    "with open(\"datasets2.json\", \"w\") as f:\n",
    "    json.dump(cleaned_data, f)"
   ]
  }
 ],
 "metadata": {
  "kernelspec": {
   "display_name": "Python 3.7.3 64-bit",
   "language": "python",
   "name": "python3"
  },
  "language_info": {
   "codemirror_mode": {
    "name": "ipython",
    "version": 3
   },
   "file_extension": ".py",
   "mimetype": "text/x-python",
   "name": "python",
   "nbconvert_exporter": "python",
   "pygments_lexer": "ipython3",
   "version": "3.7.3"
  },
  "orig_nbformat": 4,
  "vscode": {
   "interpreter": {
    "hash": "887b14c3bf155c2c86854178e2c4969ec2771ba32ccfe4ffdf11cae456a2e83f"
   }
  }
 },
 "nbformat": 4,
 "nbformat_minor": 2
}

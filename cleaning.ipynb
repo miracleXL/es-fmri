{
 "cells": [
  {
   "cell_type": "code",
   "execution_count": 8,
   "metadata": {},
   "outputs": [],
   "source": [
    "import pickle\n",
    "import copy"
   ]
  },
  {
   "cell_type": "code",
   "execution_count": 9,
   "metadata": {},
   "outputs": [],
   "source": [
    "with open(\"time_series.pkl\", \"rb\") as f:\n",
    "    data:dict = pickle.load(f)\n",
    "cleaned_data = copy.deepcopy(data)"
   ]
  },
  {
   "cell_type": "code",
   "execution_count": 10,
   "metadata": {},
   "outputs": [],
   "source": [
    "limited_time_preop = 293 # 时间长度小于这个值的序列将被删除，单位s\n",
    "limited_time_postop = 600 # 时间长度小于这个值的序列将被删除，单位s"
   ]
  },
  {
   "cell_type": "code",
   "execution_count": 11,
   "metadata": {},
   "outputs": [
    {
     "name": "stdout",
     "output_type": "stream",
     "text": [
      "删除数据：sub-303在电刺激前的run-02\n",
      "删除数据：sub-303在电刺激后的run-05\n",
      "删除数据：sub-307在电刺激前的run-01\n",
      "删除数据：sub-314在电刺激前的run-03\n",
      "删除数据：sub-320在电刺激前的run-01\n",
      "删除数据：sub-320在电刺激前的run-02\n",
      "删除数据：sub-320在电刺激前的run-04\n",
      "删除数据：sub-320在电刺激前的run-05\n",
      "删除数据：sub-330在电刺激前的run-01\n",
      "删除数据：sub-330在电刺激前的run-02\n",
      "删除数据：sub-330在电刺激前的run-03\n",
      "删除数据：sub-330在电刺激前的run-05\n",
      "删除数据：sub-331在电刺激前的run-01\n",
      "删除数据：sub-331在电刺激前的run-02\n",
      "删除数据：sub-331在电刺激后的run-04\n",
      "删除数据：sub-334在电刺激前的run-03\n",
      "删除数据：sub-335在电刺激前的run-01\n",
      "删除数据：sub-335在电刺激前的run-04\n",
      "删除数据：sub-339缺少电刺激前数据\n",
      "删除数据：sub-352在电刺激前的run-01\n",
      "删除数据：sub-352在电刺激前的run-04\n",
      "删除数据：sub-352在电刺激前的run-05\n",
      "删除数据：sub-357缺少电刺激前数据\n",
      "删除数据：sub-369缺少电刺激前数据\n",
      "删除数据：sub-394缺少电刺激前数据\n",
      "删除数据：sub-395缺少电刺激前数据\n",
      "删除数据：sub-400在电刺激前的run-01\n",
      "删除数据：sub-400在电刺激前的run-03\n",
      "删除数据：sub-400在电刺激后的run-04\n",
      "删除数据：sub-403缺少电刺激前数据\n"
     ]
    }
   ],
   "source": [
    "for sub, ses in data.items():\n",
    "    if not ses[\"ses-preop\"]:\n",
    "        cleaned_data.pop(sub)\n",
    "        print(f\"删除数据：{sub}缺少电刺激前数据\")\n",
    "        continue\n",
    "    for run, items in ses[\"ses-preop\"].items():\n",
    "        if \"time_series\" not in items or items[\"time_series\"].shape[0]*items[\"TR\"] < limited_time_preop:\n",
    "            cleaned_data[sub][\"ses-preop\"].pop(run)\n",
    "            print(f\"删除数据：{sub}在电刺激前的{run}\")\n",
    "    for run, items in ses[\"ses-postop\"].items():\n",
    "        if \"time_series\" not in items or items[\"time_series\"].shape[0]*items[\"TR\"] < limited_time_postop:\n",
    "            cleaned_data[sub][\"ses-postop\"].pop(run)\n",
    "            print(f\"删除数据：{sub}在电刺激后的{run}\")"
   ]
  },
  {
   "cell_type": "code",
   "execution_count": 12,
   "metadata": {},
   "outputs": [],
   "source": [
    "with open(\"time_series2.pkl\", \"wb\") as f:\n",
    "    pickle.dump(cleaned_data, f)"
   ]
  },
  {
   "cell_type": "code",
   "execution_count": 13,
   "metadata": {},
   "outputs": [],
   "source": [
    "for sub, ses in cleaned_data.items():\n",
    "    for op, runs in ses.items():\n",
    "        for run, items in runs.items():\n",
    "            items[\"length\"] = items[\"time_series\"].shape[0]*items[\"TR\"]\n",
    "            items.pop(\"time_series\")"
   ]
  },
  {
   "cell_type": "code",
   "execution_count": 14,
   "metadata": {},
   "outputs": [],
   "source": [
    "import json\n",
    "with open(\"datasets2.json\", \"w\") as f:\n",
    "    json.dump(cleaned_data, f)"
   ]
  }
 ],
 "metadata": {
  "kernelspec": {
   "display_name": "Python 3.11.3 ('py11')",
   "language": "python",
   "name": "python3"
  },
  "language_info": {
   "codemirror_mode": {
    "name": "ipython",
    "version": 3
   },
   "file_extension": ".py",
   "mimetype": "text/x-python",
   "name": "python",
   "nbconvert_exporter": "python",
   "pygments_lexer": "ipython3",
   "version": "3.11.3"
  },
  "orig_nbformat": 4,
  "vscode": {
   "interpreter": {
    "hash": "0102885850472d4b48be635951678564d66fcf30e6ac4d4598338ada28877327"
   }
  }
 },
 "nbformat": 4,
 "nbformat_minor": 2
}

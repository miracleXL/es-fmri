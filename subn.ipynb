{
 "cells": [
  {
   "cell_type": "code",
   "execution_count": 1,
   "metadata": {},
   "outputs": [],
   "source": [
    "import os\n",
    "import pickle\n",
    "import math\n",
    "from nilearn import connectome\n",
    "from sklearn import cluster, metrics\n",
    "import matplotlib.pyplot as plt\n",
    "import gc"
   ]
  },
  {
   "cell_type": "code",
   "execution_count": 2,
   "metadata": {},
   "outputs": [],
   "source": [
    "with open(\"time_series2.pkl\", \"rb\") as f:\n",
    "    data = pickle.load(f)"
   ]
  },
  {
   "cell_type": "code",
   "execution_count": 3,
   "metadata": {},
   "outputs": [],
   "source": [
    "min_window_length_Second = 30\n",
    "max_window_length_Second = 200\n",
    "window_length_TR = 22\n",
    "slidingSteps = 1\n",
    "ks = list(range(2, 25))"
   ]
  },
  {
   "cell_type": "code",
   "execution_count": 4,
   "metadata": {},
   "outputs": [],
   "source": [
    "def sliceWindows(time_series, frame, interval):\n",
    "    if len(time_series) < frame:\n",
    "        return [time_series]\n",
    "    windows = []\n",
    "    l, r = 0, frame\n",
    "    while r < time_series.shape[0]:\n",
    "        windows.append(time_series[l:r])\n",
    "        l += interval\n",
    "        r = l + frame\n",
    "    return windows"
   ]
  },
  {
   "cell_type": "code",
   "execution_count": 5,
   "metadata": {},
   "outputs": [],
   "source": [
    "time_series = data[\"sub-307\"][\"ses-preop\"][\"run-01\"][\"time_series\"]\n",
    "subs_num = 5"
   ]
  },
  {
   "cell_type": "code",
   "execution_count": 8,
   "metadata": {},
   "outputs": [],
   "source": [
    "def clustering(windows, save_path):\n",
    "    fcs = connectome.ConnectivityMeasure(kind=\"correlation\").fit_transform(windows)\n",
    "\n",
    "    inertias = []\n",
    "    scs = []\n",
    "    chs = []\n",
    "    dbs = []\n",
    "    fcs2d = fcs.reshape((fcs.shape[0], 13456))\n",
    "    for k in ks:\n",
    "        if k < fcs2d.shape[0]:\n",
    "            center, states, inertia = cluster.k_means(fcs2d, k)\n",
    "            inertias.append(inertia) # 肘点法\n",
    "            scs.append(metrics.silhouette_score(fcs2d, states)) # 轮廓系数\n",
    "            chs.append(metrics.calinski_harabasz_score(fcs2d, states)) # CH，方差比\n",
    "            dbs.append(metrics.davies_bouldin_score(fcs2d, states)) # DB\n",
    "        else:\n",
    "            inertias.append(inertias[-1])\n",
    "            scs.append(scs[-1])\n",
    "            chs.append(chs[-1])\n",
    "            dbs.append(dbs[-1])\n",
    "    # 绘图\n",
    "    figi, axi = plt.subplots(2, 2, figsize=(20, 10))\n",
    "    figi.patch.set_color(\"white\")\n",
    "    axi[0, 0].set_title(\"elbow method\")\n",
    "    axi[0, 0].plot(ks, inertias)\n",
    "    axi[0, 1].set_title(\"Silhouette Coefficient\")\n",
    "    axi[0, 1].plot(ks, scs)\n",
    "    axi[1, 0].set_title(\"calinski harabasz\")\n",
    "    axi[1, 0].plot(ks, chs)\n",
    "    axi[1, 1].set_title(\"davies bouldin\")\n",
    "    axi[1, 1].plot(ks, dbs)\n",
    "    figi.savefig(save_path, format=\"png\")\n",
    "    plt.cla()\n",
    "    plt.clf()\n",
    "    plt.close(\"all\")\n"
   ]
  },
  {
   "cell_type": "code",
   "execution_count": 9,
   "metadata": {},
   "outputs": [],
   "source": [
    "# preop\n",
    "save_dir_preop = f\"cluster_evaluate/{subs_num}_subs/preop/\"\n",
    "save_dir_postop = f\"cluster_evaluate/{subs_num}_subs/postop/\"\n",
    "os.makedirs(save_dir_preop, exist_ok=True)\n",
    "os.makedirs(save_dir_postop, exist_ok=True)\n",
    "for time in range(50, 201, 10):\n",
    "    count = 0\n",
    "    save_path_preop = f\"{save_dir_preop}/{time}s.png\"\n",
    "    save_path_postop = f\"{save_dir_postop}/{time}s.png\"\n",
    "    if os.path.exists(save_dir_preop) and os.path.exists(save_path_postop):\n",
    "        continue\n",
    "    for sub, ses in data.items():\n",
    "        if count >= subs_num:\n",
    "            break\n",
    "        count += 1\n",
    "        windows_preop = []\n",
    "        windows_postop = []\n",
    "        for run, items in ses[\"ses-preop\"].items():\n",
    "            window_length_TR = math.ceil(time/items[\"TR\"])\n",
    "            slidingSteps = math.ceil(time/items[\"TR\"])\n",
    "            windows_preop += sliceWindows(items[\"time_series\"], window_length_TR, slidingSteps)\n",
    "        for run, items in ses[\"ses-postop\"].items():\n",
    "            window_length_TR = math.ceil(time/items[\"TR\"])\n",
    "            slidingSteps = math.ceil(time/items[\"TR\"])\n",
    "            windows_postop += sliceWindows(items[\"time_series\"], window_length_TR, slidingSteps)\n",
    "    # preop\n",
    "    if len(windows_preop) > 2:\n",
    "        if not os.path.exists(save_path_preop):\n",
    "            clustering(windows_preop, save_path_preop)\n",
    "    # postop\n",
    "    if len(windows_postop) > 2:\n",
    "        if not os.path.exists(save_path_postop):\n",
    "            clustering(windows_postop, save_path_postop)\n",
    "    plt.cla()\n",
    "    plt.clf()\n",
    "    plt.close(\"all\")\n",
    "    gc.collect()"
   ]
  }
 ],
 "metadata": {
  "kernelspec": {
   "display_name": "Python 3.7.3 64-bit",
   "language": "python",
   "name": "python3"
  },
  "language_info": {
   "codemirror_mode": {
    "name": "ipython",
    "version": 3
   },
   "file_extension": ".py",
   "mimetype": "text/x-python",
   "name": "python",
   "nbconvert_exporter": "python",
   "pygments_lexer": "ipython3",
   "version": "3.7.3"
  },
  "orig_nbformat": 4,
  "vscode": {
   "interpreter": {
    "hash": "887b14c3bf155c2c86854178e2c4969ec2771ba32ccfe4ffdf11cae456a2e83f"
   }
  }
 },
 "nbformat": 4,
 "nbformat_minor": 2
}

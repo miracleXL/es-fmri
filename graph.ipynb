{
 "cells": [
  {
   "cell_type": "code",
   "execution_count": 1,
   "metadata": {},
   "outputs": [],
   "source": [
    "import pickle\n",
    "import numpy as np\n",
    "from nilearn import datasets\n",
    "import networkx as nx\n",
    "import matplotlib as mpl\n",
    "import matplotlib.pyplot as plt\n",
    "from scipy import stats\n",
    "import os\n",
    "from graph import cal_graph"
   ]
  },
  {
   "cell_type": "code",
   "execution_count": 2,
   "metadata": {},
   "outputs": [],
   "source": [
    "atlas_labels = datasets.fetch_atlas_aal()['labels']\n",
    "# mpl.use(\"agg\")"
   ]
  },
  {
   "cell_type": "code",
   "execution_count": 3,
   "metadata": {},
   "outputs": [],
   "source": [
    "with open(\"FCs.pkl\", \"rb\") as f:\n",
    "    fcs:dict = pickle.load(f)"
   ]
  },
  {
   "cell_type": "code",
   "execution_count": 5,
   "metadata": {},
   "outputs": [],
   "source": [
    "# 选择一个合适的二值化阈值\n",
    "# 以全局效率为标准，绘制不同二值化阈值下全局效率统计学差异变化曲线\n",
    "thresholds = range(35, 80, 2)\n",
    "save_path = \"graph_theory/cluster\"\n",
    "os.makedirs(save_path, exist_ok=True)\n",
    "mw_stats = []\n",
    "mw_p_values = []\n",
    "for threshold in thresholds:\n",
    "    index1 = []\n",
    "    index2 = []\n",
    "    for sub in fcs:\n",
    "        if len(fcs[sub][\"ses-preop\"]) == 0:\n",
    "            continue\n",
    "        for run, fc in fcs[sub][\"ses-preop\"].items():\n",
    "            # 创建图\n",
    "            fcg = nx.Graph()\n",
    "            fcg.add_nodes_from(atlas_labels)\n",
    "            fcg.add_edges_from([(atlas_labels[i], atlas_labels[j]) for i in range(fc.shape[0]) for j in range(fc.shape[1]) if i != j and abs(fc[i][j]) >= threshold/100])\n",
    "            if len(fcg.nodes) == 0:\n",
    "                print(f\"图为空：{sub}-ses-preop-{run}-{threshold}\")\n",
    "                # GE.append(GE[-1])\n",
    "            else:\n",
    "                index1.append(sum(nx.clustering(fcg).values()))\n",
    "                # index1.append(nx.degree_assortativity_coefficient(fcg))\n",
    "                if np.isnan(index1[-1]):\n",
    "                    index1.pop()\n",
    "        for run, fc in fcs[sub][\"ses-postop\"].items():\n",
    "            # 创建图\n",
    "            fcg = nx.Graph()\n",
    "            fcg.add_nodes_from(atlas_labels)\n",
    "            fcg.add_edges_from([(atlas_labels[i], atlas_labels[j]) for i in range(fc.shape[0]) for j in range(fc.shape[1]) if i != j and abs(fc[i][j]) >= threshold/100])\n",
    "            if len(fcg.nodes) == 0:\n",
    "                print(f\"图为空：{sub}-ses-postop-{run}-{threshold}\")\n",
    "                # GE.append(GE[-1])\n",
    "            else:\n",
    "                index2.append(sum(nx.clustering(fcg).values()))\n",
    "                # index2.append(nx.degree_assortativity_coefficient(fcg))\n",
    "                if np.isnan(index2[-1]):\n",
    "                    index2.pop()\n",
    "    mw_stat, mw_p_value = stats.mannwhitneyu(index1, index2)\n",
    "    mw_stats.append(mw_stat)\n",
    "    mw_p_values.append(mw_p_value)\n",
    "fig, ax = plt.subplots(1, 2, figsize=(15, 5))\n",
    "fig.patch.set_color(\"white\")\n",
    "ax[0].set_title(\"mannwhitney u-stat\")\n",
    "ax[0].plot(thresholds, mw_stats)\n",
    "ax[1].set_title(\"mannwhitney u p-value\")\n",
    "ax[1].plot(thresholds, mw_p_values)\n",
    "fig.savefig(f\"{save_path}/mw_stat.png\", format=\"png\")\n",
    "plt.cla()\n",
    "plt.clf()\n",
    "plt.close(\"all\")"
   ]
  },
  {
   "cell_type": "code",
   "execution_count": 52,
   "metadata": {},
   "outputs": [],
   "source": [
    "threshold = 50"
   ]
  },
  {
   "cell_type": "code",
   "execution_count": null,
   "metadata": {
    "scrolled": true
   },
   "outputs": [],
   "source": [
    "# 计算图论参数并保存\n",
    "save_path = \"graph_theory/pkl\"\n",
    "os.makedirs(save_path, exist_ok=True)\n",
    "graphs = {}\n",
    "for sub in fcs:\n",
    "    # if os.path.exists(f\"{save_path}/{sub}.pkl\"):\n",
    "    #     continue\n",
    "    fc_graph_theory= {}\n",
    "    graphs[sub] = fc_graph_theory\n",
    "    for ses in fcs[sub]:\n",
    "        fc_graph_theory[ses] = {}\n",
    "        for run, fc in fcs[sub][ses].items():\n",
    "\n",
    "            # %%\n",
    "            # 创建图\n",
    "            fc_graph_theory[ses][run] = cal_graph(fc, threshold)\n",
    "    with open(f\"{save_path}/{sub}.pkl\", \"wb\") as f:\n",
    "        pickle.dump(fc_graph_theory, f)\n",
    "with open(f\"{save_path}/graphs.pkl\", \"wb\") as f:\n",
    "    pickle.dump(graphs, f)"
   ]
  }
 ],
 "metadata": {
  "kernelspec": {
   "display_name": "base",
   "language": "python",
   "name": "python3"
  },
  "language_info": {
   "codemirror_mode": {
    "name": "ipython",
    "version": 3
   },
   "file_extension": ".py",
   "mimetype": "text/x-python",
   "name": "python",
   "nbconvert_exporter": "python",
   "pygments_lexer": "ipython3",
   "version": "3.7.3"
  },
  "vscode": {
   "interpreter": {
    "hash": "14da249aea668dd476485a6222a8c1fd2f2cd90c7005afa5442c69b6c853f2dc"
   }
  }
 },
 "nbformat": 4,
 "nbformat_minor": 2
}

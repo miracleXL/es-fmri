{
 "cells": [
  {
   "cell_type": "code",
   "execution_count": 1,
   "metadata": {},
   "outputs": [],
   "source": [
    "import os\n",
    "import glob\n",
    "import json\n",
    "import re\n",
    "import pickle"
   ]
  },
  {
   "cell_type": "code",
   "execution_count": 2,
   "metadata": {},
   "outputs": [],
   "source": [
    "def getTR(path):\n",
    "    with open(path, \"r\") as f:\n",
    "        jsonObj = json.load(f)\n",
    "    return jsonObj[\"RepetitionTime\"]"
   ]
  },
  {
   "cell_type": "code",
   "execution_count": 12,
   "metadata": {},
   "outputs": [],
   "source": [
    "base_path = \"../datasets/ds002799/derivatives/fmriprep/\""
   ]
  },
  {
   "cell_type": "code",
   "execution_count": 13,
   "metadata": {},
   "outputs": [],
   "source": [
    "subs = glob.glob(base_path+\"/sub-*/\")\n",
    "print(subs[0])\n",
    "reg_sub = re.compile(r\"sub-\\d+\")\n",
    "sub_ids = [reg_sub.search(i)[0] for i in subs]"
   ]
  },
  {
   "cell_type": "code",
   "execution_count": null,
   "metadata": {},
   "outputs": [],
   "source": [
    "time_series = None\n",
    "if os.path.exists(\"time_series.pkl\"):\n",
    "    with open(\"time_series.pkl\", \"rb\") as f:\n",
    "        time_series = pickle.load(f)\n",
    "def getTimeSeries(sub, op, run):\n",
    "    if time_series is None:\n",
    "        return \"\"\n",
    "    return time_series[sub][op][run][\"time_series\"]"
   ]
  },
  {
   "cell_type": "code",
   "execution_count": 10,
   "metadata": {},
   "outputs": [],
   "source": [
    "datasets = {\n",
    "    sub : {\n",
    "        \"ses-preop\" : {\n",
    "            \"run-\"+f\"{i+1:0>2d}\" : {\n",
    "                \"bold\" : v,\n",
    "                \"mask\" : glob.glob(base_path + sub + \"/ses-preop/func/*run-\" + f\"{i+1:0>2d}\" + \"*MNI152*mask.nii.gz\")[0],\n",
    "                \"confounds\" : glob.glob(base_path + sub + \"/ses-preop/func/*run-\" + f\"{i+1:0>2d}\" + \"*confounds_regressors.tsv\")[0],\n",
    "                \"TR\" : getTR(glob.glob(base_path + sub + \"/ses-preop/func/*run-\" + f\"{i+1:0>2d}\" + \"*MNI152*preproc_bold.json\")[0])\n",
    "            } for i,v in enumerate(glob.glob(base_path + sub + \"/ses-preop/func/*MNI152*preproc_bold.nii.gz\"))\n",
    "        },\n",
    "        \"ses-postop\": {\n",
    "            \"run-\"+f\"{i+1:0>2d}\" : {\n",
    "                \"bold\" : v,\n",
    "                \"mask\" : glob.glob(base_path + sub + \"/ses-postop/func/*run-\" + f\"{i+1:0>2d}\" + \"*MNI152*mask.nii.gz\")[0],\n",
    "                \"confounds\" : glob.glob(base_path + sub + \"/ses-postop/func/*run-\" + f\"{i+1:0>2d}\" + \"*confounds_regressors.tsv\")[0],\n",
    "                \"TR\" : getTR(glob.glob(base_path + sub + \"/ses-postop/func/*run-\" + f\"{i+1:0>2d}\" + \"*MNI152*preproc_bold.json\")[0])\n",
    "            } for i,v in enumerate(glob.glob(base_path + sub + \"/ses-postop/func/*MNI152*preproc_bold.nii.gz\"))\n",
    "        }\n",
    "        } for sub in sub_ids\n",
    "    }"
   ]
  },
  {
   "cell_type": "code",
   "execution_count": null,
   "metadata": {},
   "outputs": [],
   "source": [
    "data = {\n",
    "    sub : {\n",
    "        \"ses-preop\" : {\n",
    "            \"run-\"+f\"{i+1:0>2d}\" : {\n",
    "                \"bold\" : v,\n",
    "                \"mask\" : glob.glob(base_path + sub + \"/ses-preop/func/*run-\" + f\"{i+1:0>2d}\" + \"*MNI152*mask.nii.gz\")[0],\n",
    "                \"confounds\" : glob.glob(base_path + sub + \"/ses-preop/func/*run-\" + f\"{i+1:0>2d}\" + \"*confounds_regressors.tsv\")[0],\n",
    "                \"TR\" : getTR(glob.glob(base_path + sub + \"/ses-preop/func/*run-\" + f\"{i+1:0>2d}\" + \"*MNI152*preproc_bold.json\")[0]),\n",
    "                \"time_series\" : getTimeSeries(sub, \"ses-preop\", f\"run-{i+1:0>2d}\")\n",
    "            } for i,v in enumerate(glob.glob(base_path + sub + \"/ses-preop/func/*MNI152*preproc_bold.nii.gz\"))\n",
    "        },\n",
    "        \"ses-postop\": {\n",
    "            \"run-\"+f\"{i+1:0>2d}\" : {\n",
    "                \"bold\" : v,\n",
    "                \"mask\" : glob.glob(base_path + sub + \"/ses-postop/func/*run-\" + f\"{i+1:0>2d}\" + \"*MNI152*mask.nii.gz\")[0],\n",
    "                \"confounds\" : glob.glob(base_path + sub + \"/ses-postop/func/*run-\" + f\"{i+1:0>2d}\" + \"*confounds_regressors.tsv\")[0],\n",
    "                \"TR\" : getTR(glob.glob(base_path + sub + \"/ses-postop/func/*run-\" + f\"{i+1:0>2d}\" + \"*MNI152*preproc_bold.json\")[0]),\n",
    "                \"time_series\" : getTimeSeries(sub, \"ses-postop\", f\"run-{i+1:0>2d}\")\n",
    "            } for i,v in enumerate(glob.glob(base_path + sub + \"/ses-postop/func/*MNI152*preproc_bold.nii.gz\"))\n",
    "        }\n",
    "        } for sub in sub_ids\n",
    "    }"
   ]
  },
  {
   "cell_type": "code",
   "execution_count": 11,
   "metadata": {},
   "outputs": [],
   "source": [
    "if time_series:\n",
    "    with open(\"time_series.pkl\", \"wb\") as f:\n",
    "        pickle.dump(data, f)\n",
    "with open(\"datasets.json\", \"w\") as f:\n",
    "    json.dump(datasets, f)"
   ]
  },
  {
   "cell_type": "code",
   "execution_count": 3,
   "metadata": {},
   "outputs": [],
   "source": [
    "cmp_base_path = \"../datasets/ds000031_R1.0.4/derivatives/fmriprep\""
   ]
  },
  {
   "cell_type": "code",
   "execution_count": 4,
   "metadata": {},
   "outputs": [
    {
     "name": "stdout",
     "output_type": "stream",
     "text": [
      "../datasets/ds000031_R1.0.4/derivatives/fmriprep\\sub-01\\\n"
     ]
    }
   ],
   "source": [
    "subs = glob.glob(cmp_base_path+\"/sub-*/\")\n",
    "print(subs[0])\n",
    "reg_sub = re.compile(r\"sub-\\d+\")\n",
    "sub_ids = [reg_sub.search(i)[0] for i in subs]"
   ]
  },
  {
   "cell_type": "code",
   "execution_count": 20,
   "metadata": {},
   "outputs": [],
   "source": [
    "datasets_cmp = {}\n",
    "for sub in sub_ids:\n",
    "    datasets_cmp[sub] = {}\n",
    "    for ses in glob.glob(f\"{cmp_base_path}/{sub}/ses*\"):\n",
    "        ses = re.search(r\"ses-\\d+\", ses)[0]\n",
    "        datasets_cmp[sub][ses] = {}\n",
    "        for i,v in enumerate(glob.glob(f\"{cmp_base_path}/{sub}/{ses}/func/*rest*MNI152*preproc.nii.gz\")):\n",
    "            run = \"run-\"+f\"{i+1:0>3d}\"\n",
    "            datasets_cmp[sub][ses][run] = {\n",
    "                \"bold\" : v,\n",
    "                \"confounds\" : glob.glob(f\"{cmp_base_path}/{sub}/{ses}/func/*rest*{run}*confounds.tsv\")[0],\n",
    "                \"mask\" : glob.glob(f\"{cmp_base_path}/{sub}/{ses}/func/*rest*{run}*MNI152*mask.nii.gz\")[0],\n",
    "                \"TR\" : 1.16\n",
    "            }\n",
    "\n",
    "with open(\"datasets_cmp.json\", \"w\") as f:\n",
    "    json.dump(datasets_cmp, f)"
   ]
  }
 ],
 "metadata": {
  "kernelspec": {
   "display_name": "Python 3.9.12 ('base')",
   "language": "python",
   "name": "python3"
  },
  "language_info": {
   "codemirror_mode": {
    "name": "ipython",
    "version": 3
   },
   "file_extension": ".py",
   "mimetype": "text/x-python",
   "name": "python",
   "nbconvert_exporter": "python",
   "pygments_lexer": "ipython3",
   "version": "3.9.12"
  },
  "orig_nbformat": 4,
  "vscode": {
   "interpreter": {
    "hash": "14da249aea668dd476485a6222a8c1fd2f2cd90c7005afa5442c69b6c853f2dc"
   }
  }
 },
 "nbformat": 4,
 "nbformat_minor": 2
}

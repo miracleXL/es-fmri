{
 "cells": [
  {
   "cell_type": "code",
   "execution_count": 1,
   "metadata": {},
   "outputs": [],
   "source": [
    "import glob\n",
    "import json\n",
    "import re"
   ]
  },
  {
   "cell_type": "code",
   "execution_count": 12,
   "metadata": {},
   "outputs": [],
   "source": [
    "# 数据集中预处理过的数据所在文件夹\n",
    "# base path of preprocessed data in the datasets\n",
    "base_path = \"../datasets/ds002799/derivatives/fmriprep/\""
   ]
  },
  {
   "cell_type": "code",
   "execution_count": 13,
   "metadata": {},
   "outputs": [],
   "source": [
    "# 寻找被试在数据集中的id\n",
    "# get subjects' id in datasets\n",
    "subs = glob.glob(base_path+\"/sub-*/\")\n",
    "print(subs[0])\n",
    "reg_sub = re.compile(r\"sub-\\d+\")\n",
    "sub_ids = [reg_sub.search(i)[0] for i in subs]"
   ]
  },
  {
   "cell_type": "code",
   "execution_count": 2,
   "metadata": {},
   "outputs": [],
   "source": [
    "# 从文件中读取每条数据的TR\n",
    "# function that load repeation time for each run\n",
    "def getTR(path):\n",
    "    with open(path, \"r\") as f:\n",
    "        jsonObj = json.load(f)\n",
    "    return jsonObj[\"RepetitionTime\"]"
   ]
  },
  {
   "cell_type": "code",
   "execution_count": 10,
   "metadata": {},
   "outputs": [],
   "source": [
    "# 查找所需文件的路径等信息，主要包括：BOLD信号数据路径，TR重复时间，MASK遮罩文件路径，confounds混淆文件路径，\n",
    "# search for every file's path and other info, such as BOLD signal path, TR repetition time, mask file path, confounds file path\n",
    "datasets = {\n",
    "    sub : {\n",
    "        \"ses-preop\" : {\n",
    "            \"run-\"+f\"{i+1:0>2d}\" : {\n",
    "                \"bold\" : v,\n",
    "                \"mask\" : glob.glob(base_path + sub + \"/ses-preop/func/*run-\" + f\"{i+1:0>2d}\" + \"*MNI152*mask.nii.gz\")[0],\n",
    "                \"confounds\" : glob.glob(base_path + sub + \"/ses-preop/func/*run-\" + f\"{i+1:0>2d}\" + \"*confounds_regressors.tsv\")[0],\n",
    "                \"TR\" : getTR(glob.glob(base_path + sub + \"/ses-preop/func/*run-\" + f\"{i+1:0>2d}\" + \"*MNI152*preproc_bold.json\")[0])\n",
    "            } for i,v in enumerate(glob.glob(base_path + sub + \"/ses-preop/func/*MNI152*preproc_bold.nii.gz\"))\n",
    "        },\n",
    "        \"ses-postop\": {\n",
    "            \"run-\"+f\"{i+1:0>2d}\" : {\n",
    "                \"bold\" : v,\n",
    "                \"mask\" : glob.glob(base_path + sub + \"/ses-postop/func/*run-\" + f\"{i+1:0>2d}\" + \"*MNI152*mask.nii.gz\")[0],\n",
    "                \"confounds\" : glob.glob(base_path + sub + \"/ses-postop/func/*run-\" + f\"{i+1:0>2d}\" + \"*confounds_regressors.tsv\")[0],\n",
    "                \"TR\" : getTR(glob.glob(base_path + sub + \"/ses-postop/func/*run-\" + f\"{i+1:0>2d}\" + \"*MNI152*preproc_bold.json\")[0])\n",
    "            } for i,v in enumerate(glob.glob(base_path + sub + \"/ses-postop/func/*MNI152*preproc_bold.nii.gz\"))\n",
    "        }\n",
    "        } for sub in sub_ids\n",
    "    }"
   ]
  },
  {
   "cell_type": "code",
   "execution_count": 11,
   "metadata": {},
   "outputs": [],
   "source": [
    "# 保存为json文件\n",
    "# save as json file\n",
    "with open(\"datasets.json\", \"w\") as f:\n",
    "    json.dump(datasets, f, indent=4)"
   ]
  }
 ],
 "metadata": {
  "kernelspec": {
   "display_name": "Python 3.9.12 ('base')",
   "language": "python",
   "name": "python3"
  },
  "language_info": {
   "codemirror_mode": {
    "name": "ipython",
    "version": 3
   },
   "file_extension": ".py",
   "mimetype": "text/x-python",
   "name": "python",
   "nbconvert_exporter": "python",
   "pygments_lexer": "ipython3",
   "version": "3.9.12"
  },
  "orig_nbformat": 4,
  "vscode": {
   "interpreter": {
    "hash": "14da249aea668dd476485a6222a8c1fd2f2cd90c7005afa5442c69b6c853f2dc"
   }
  }
 },
 "nbformat": 4,
 "nbformat_minor": 2
}

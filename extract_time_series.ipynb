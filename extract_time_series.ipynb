{
 "cells": [
  {
   "cell_type": "code",
   "execution_count": 1,
   "metadata": {},
   "outputs": [],
   "source": [
    "import nilearn as nil\n",
    "from nilearn import maskers, datasets\n",
    "from nilearn.interfaces.fmriprep import load_confounds_strategy\n",
    "import json\n",
    "import pickle"
   ]
  },
  {
   "cell_type": "code",
   "execution_count": 2,
   "metadata": {},
   "outputs": [],
   "source": [
    "atlas = datasets.fetch_atlas_aal()\n",
    "# Loading atlas image stored in 'maps'\n",
    "atlas_filename = atlas['maps']"
   ]
  },
  {
   "cell_type": "code",
   "execution_count": 3,
   "metadata": {},
   "outputs": [],
   "source": [
    "with open(\"./datasets.json\", \"r\") as f:\n",
    "    data = json.load(f)"
   ]
  },
  {
   "cell_type": "code",
   "execution_count": 4,
   "metadata": {},
   "outputs": [],
   "source": [
    "bold = data[\"sub-292\"][\"ses-preop\"][\"run-01\"][\"bold\"]\n",
    "mask = data[\"sub-292\"][\"ses-preop\"][\"run-01\"][\"mask\"]\n",
    "confounds = data[\"sub-292\"][\"ses-preop\"][\"run-01\"][\"confounds\"]"
   ]
  },
  {
   "cell_type": "code",
   "execution_count": null,
   "metadata": {},
   "outputs": [],
   "source": [
    "for sub, ses in data.items():\n",
    "    for op, runs in ses.items():\n",
    "        for run, items in runs.items():\n",
    "            if \"length\" in items:\n",
    "                continue\n",
    "            masker = maskers.NiftiLabelsMasker(labels_img=atlas_filename, mask_img=items[\"mask\"], standardize=True, t_r=items[\"TR\"], \n",
    "                                    memory='nilearn_cache', memory_level=1, verbose=5)\n",
    "            try:\n",
    "                confounds_simple, sample_mask = load_confounds_strategy(items[\"bold\"])\n",
    "            except:\n",
    "                runs.pop(run)\n",
    "                continue\n",
    "            items[\"time_series\"] = masker.fit_transform(items[\"bold\"], confounds=confounds_simple, sample_mask=sample_mask)\n",
    "            items[\"length\"] = items[\"time_series\"].shape[0]*items[\"TR\"]\n",
    "print(data[\"sub-292\"][\"ses-preop\"][\"run-01\"][\"time_series\"].shape)"
   ]
  },
  {
   "cell_type": "code",
   "execution_count": 6,
   "metadata": {},
   "outputs": [],
   "source": [
    "with open(\"time_series.pkl\", \"wb\") as f:\n",
    "    pickle.dump(data, f)"
   ]
  }
 ],
 "metadata": {
  "kernelspec": {
   "display_name": "Python 3.11.3 ('py11')",
   "language": "python",
   "name": "python3"
  },
  "language_info": {
   "codemirror_mode": {
    "name": "ipython",
    "version": 3
   },
   "file_extension": ".py",
   "mimetype": "text/x-python",
   "name": "python",
   "nbconvert_exporter": "python",
   "pygments_lexer": "ipython3",
   "version": "3.7.3"
  },
  "orig_nbformat": 4,
  "vscode": {
   "interpreter": {
    "hash": "0102885850472d4b48be635951678564d66fcf30e6ac4d4598338ada28877327"
   }
  }
 },
 "nbformat": 4,
 "nbformat_minor": 2
}

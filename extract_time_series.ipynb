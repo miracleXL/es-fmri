{
 "cells": [
  {
   "cell_type": "code",
   "execution_count": 1,
   "metadata": {},
   "outputs": [],
   "source": [
    "from nilearn import maskers, datasets\n",
    "from nilearn.interfaces.fmriprep import load_confounds_strategy\n",
    "import json\n",
    "import pickle"
   ]
  },
  {
   "cell_type": "code",
   "execution_count": 2,
   "metadata": {},
   "outputs": [],
   "source": [
    "# 加载ALL脑图谱目标\n",
    "# load AAL atlas template.\n",
    "atlas = datasets.fetch_atlas_aal()\n",
    "# Loading atlas image stored in 'maps'\n",
    "atlas_filename = atlas['maps']"
   ]
  },
  {
   "cell_type": "code",
   "execution_count": 3,
   "metadata": {},
   "outputs": [],
   "source": [
    "# 读取get_path.ipynb中获取的json文件\n",
    "# load json file generated in get_path.ipynb\n",
    "with open(\"./datasets.json\", \"r\") as f:\n",
    "    data = json.load(f)"
   ]
  },
  {
   "cell_type": "code",
   "execution_count": null,
   "metadata": {},
   "outputs": [],
   "source": [
    "# 使用nilearn提取时间序列\n",
    "# extract time series using nilearn module\n",
    "for sub, ses in data.items():\n",
    "    for op, runs in ses.items():\n",
    "        if op == \"soz\":\n",
    "            continue\n",
    "        for run, items in runs.items():\n",
    "            masker = maskers.NiftiLabelsMasker(labels_img=atlas_filename, mask_img=items[\"mask\"], standardize=True, t_r=items[\"TR\"],\n",
    "                                    memory='nilearn_cache', memory_level=1, verbose=5)\n",
    "            try:\n",
    "                confounds_simple, sample_mask = load_confounds_strategy(items[\"bold\"])\n",
    "            except:\n",
    "                continue\n",
    "            items[\"time_series\"] = masker.fit_transform(items[\"bold\"])\n",
    "            items[\"length\"] = items[\"time_series\"].shape[0]*items[\"TR\"]\n",
    "print(data[\"sub-292\"][\"ses-preop\"][\"run-01\"][\"time_series\"].shape)"
   ]
  },
  {
   "cell_type": "code",
   "execution_count": 7,
   "metadata": {},
   "outputs": [],
   "source": [
    "# 保存时间序列文件\n",
    "# save time series as pickle file\n",
    "with open(\"time_series.pkl\", \"wb\") as f:\n",
    "    pickle.dump(data, f)"
   ]
  }
 ],
 "metadata": {
  "kernelspec": {
   "display_name": "Python 3.9.12 ('base')",
   "language": "python",
   "name": "python3"
  },
  "language_info": {
   "codemirror_mode": {
    "name": "ipython",
    "version": 3
   },
   "file_extension": ".py",
   "mimetype": "text/x-python",
   "name": "python",
   "nbconvert_exporter": "python",
   "pygments_lexer": "ipython3",
   "version": "3.7.3"
  },
  "orig_nbformat": 4,
  "vscode": {
   "interpreter": {
    "hash": "14da249aea668dd476485a6222a8c1fd2f2cd90c7005afa5442c69b6c853f2dc"
   }
  }
 },
 "nbformat": 4,
 "nbformat_minor": 2
}

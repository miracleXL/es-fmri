{
 "cells": [
  {
   "cell_type": "code",
   "execution_count": 1,
   "metadata": {},
   "outputs": [],
   "source": [
    "import nilearn as nil\n",
    "from nilearn import maskers, datasets\n",
    "import json\n",
    "import pickle"
   ]
  },
  {
   "cell_type": "code",
   "execution_count": 2,
   "metadata": {},
   "outputs": [],
   "source": [
    "atlas = datasets.fetch_atlas_aal()\n",
    "# Loading atlas image stored in 'maps'\n",
    "atlas_filename = atlas['maps']"
   ]
  },
  {
   "cell_type": "code",
   "execution_count": 3,
   "metadata": {},
   "outputs": [],
   "source": [
    "with open(\"./datasets.json\", \"r\") as f:\n",
    "    data = json.load(f)"
   ]
  },
  {
   "cell_type": "code",
   "execution_count": 4,
   "metadata": {},
   "outputs": [],
   "source": [
    "bold = data[\"sub-292\"][\"ses-preop\"][\"run-01\"][\"bold\"]\n",
    "mask = data[\"sub-292\"][\"ses-preop\"][\"run-01\"][\"mask\"]\n",
    "confounds = data[\"sub-292\"][\"ses-preop\"][\"run-01\"][\"confounds\"]"
   ]
  },
  {
   "cell_type": "code",
   "execution_count": null,
   "metadata": {},
   "outputs": [],
   "source": [
    "for sub, ses in data.items():\n",
    "    for op, runs in ses.items():\n",
    "        for run, items in runs.items():\n",
    "            masker = maskers.NiftiLabelsMasker(labels_img=atlas_filename, mask_img=items[\"mask\"], standardize=True, t_r=items[\"TR\"],\n",
    "                                    memory='nilearn_cache', memory_level=1, verbose=5)\n",
    "            items[\"time_series\"] = masker.fit_transform(items[\"bold\"])\n",
    "print(data[\"sub-292\"][\"ses-preop\"][\"run-01\"][\"time_series\"].shape)"
   ]
  },
  {
   "cell_type": "code",
   "execution_count": 6,
   "metadata": {},
   "outputs": [],
   "source": [
    "with open(\"time_series.pkl\", \"wb\") as f:\n",
    "    pickle.dump(data, f)"
   ]
  },
  {
   "cell_type": "code",
   "execution_count": 10,
   "metadata": {},
   "outputs": [],
   "source": [
    "with open(\"time_series.pkl\", \"rb\") as f:\n",
    "    data = pickle.load(f)"
   ]
  }
 ],
 "metadata": {
  "kernelspec": {
   "display_name": "Python 3.9.12 ('base')",
   "language": "python",
   "name": "python3"
  },
  "language_info": {
   "codemirror_mode": {
    "name": "ipython",
    "version": 3
   },
   "file_extension": ".py",
   "mimetype": "text/x-python",
   "name": "python",
   "nbconvert_exporter": "python",
   "pygments_lexer": "ipython3",
   "version": "3.9.12"
  },
  "orig_nbformat": 4,
  "vscode": {
   "interpreter": {
    "hash": "14da249aea668dd476485a6222a8c1fd2f2cd90c7005afa5442c69b6c853f2dc"
   }
  }
 },
 "nbformat": 4,
 "nbformat_minor": 2
}

{
 "cells": [
  {
   "cell_type": "code",
   "execution_count": 1,
   "metadata": {},
   "outputs": [],
   "source": [
    "from esfMRI import sliceWindows, align\n",
    "from nilearn import connectome\n",
    "import pickle\n",
    "import math\n",
    "import os"
   ]
  },
  {
   "cell_type": "code",
   "execution_count": 2,
   "metadata": {},
   "outputs": [],
   "source": [
    "# 可调节参数\n",
    "window_length_Second = [120, 150, 180]\n",
    "sliding_steps = [1]"
   ]
  },
  {
   "cell_type": "code",
   "execution_count": 3,
   "metadata": {},
   "outputs": [],
   "source": [
    "with open(\"time_series2.pkl\", \"rb\") as f:\n",
    "    data = pickle.load(f)"
   ]
  },
  {
   "cell_type": "code",
   "execution_count": 4,
   "metadata": {},
   "outputs": [],
   "source": [
    "slidingWindows = {}\n",
    "dFCs = {}\n",
    "for subid in data:\n",
    "    slidingWindows[subid] = {}\n",
    "    dFCs[subid] = {}\n",
    "    for time in window_length_Second:\n",
    "        windows_preop = []\n",
    "        windows_postop = []\n",
    "        window_length_preop = []\n",
    "        window_length_postop = []\n",
    "        slidingWindows[subid][\"ses-preop\"] = {}\n",
    "        dFCs[subid][\"ses-preop\"] = {}\n",
    "        for run, items in data[subid][\"ses-preop\"].items():\n",
    "            preopFrame = math.ceil(time/items[\"TR\"])\n",
    "            tmp = sliceWindows(items[\"time_series\"], preopFrame, 1)\n",
    "            slidingWindows[subid][\"ses-preop\"][run] = tmp\n",
    "            dFCs[subid][\"ses-preop\"][run] = connectome.ConnectivityMeasure(kind=\"correlation\").fit_transform(tmp)\n",
    "            window_length_preop.append(len(tmp))\n",
    "            windows_preop += tmp\n",
    "        slidingWindows[subid][\"ses-postop\"] = {}\n",
    "        dFCs[subid][\"ses-postop\"] = {}\n",
    "        for run, items in data[subid][\"ses-postop\"].items():\n",
    "            postopFrame = math.ceil(time/items[\"TR\"])\n",
    "            tmp = sliceWindows(items[\"time_series\"], postopFrame, 1)\n",
    "            slidingWindows[subid][\"ses-postop\"][run] = tmp\n",
    "            dFCs[subid][\"ses-postop\"][run] = connectome.ConnectivityMeasure(kind=\"correlation\").fit_transform(tmp)\n",
    "            window_length_postop.append(len(tmp))\n",
    "            windows_postop += tmp\n",
    "        slidingWindows[subid][\"ses-preop\"][\"total\"] = windows_preop\n",
    "        slidingWindows[subid][\"ses-postop\"][\"total\"] = windows_postop\n",
    "        slidingWindows[subid][\"length\"] = [window_length_preop, window_length_postop]\n",
    "        dFCs[subid][\"length\"] = [window_length_preop, window_length_postop]\n",
    "with open(\"slidingWindows.pkl\", \"wb\") as f:\n",
    "    pickle.dump(slidingWindows, f)\n",
    "with open(\"dFCs.pkl\", \"wb\") as f:\n",
    "    pickle.dump(dFCs, f)"
   ]
  }
 ],
 "metadata": {
  "kernelspec": {
   "display_name": "base",
   "language": "python",
   "name": "python3"
  },
  "language_info": {
   "codemirror_mode": {
    "name": "ipython",
    "version": 3
   },
   "file_extension": ".py",
   "mimetype": "text/x-python",
   "name": "python",
   "nbconvert_exporter": "python",
   "pygments_lexer": "ipython3",
   "version": "3.9.12"
  },
  "orig_nbformat": 4,
  "vscode": {
   "interpreter": {
    "hash": "14da249aea668dd476485a6222a8c1fd2f2cd90c7005afa5442c69b6c853f2dc"
   }
  }
 },
 "nbformat": 4,
 "nbformat_minor": 2
}

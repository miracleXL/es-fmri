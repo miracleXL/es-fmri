{
 "cells": [
  {
   "cell_type": "code",
   "execution_count": 1,
   "metadata": {},
   "outputs": [],
   "source": [
    "import pickle\n",
    "import math"
   ]
  },
  {
   "cell_type": "code",
   "execution_count": 2,
   "metadata": {},
   "outputs": [],
   "source": [
    "with open(\"time_series.pkl\", \"rb\") as f:\n",
    "    data = pickle.load(f)"
   ]
  },
  {
   "cell_type": "code",
   "execution_count": 3,
   "metadata": {},
   "outputs": [],
   "source": [
    "time_series = data[\"sub-292\"][\"ses-preop\"][\"run-01\"][\"time_series\"]\n",
    "TR = data[\"sub-292\"][\"ses-preop\"][\"run-01\"][\"TR\"]"
   ]
  },
  {
   "cell_type": "code",
   "execution_count": 4,
   "metadata": {},
   "outputs": [],
   "source": [
    "def sliceWindows(time_series, window_length, interval_second):\n",
    "    frame = math.ceil(window_length/TR) # 滑动窗口选择时间通常在 30s~100s 之间\n",
    "    interval = math.ceil(interval_second/TR)\n",
    "    windows = []\n",
    "    l, r = 0, frame\n",
    "    while r < time_series.shape[0]:\n",
    "        windows.append(time_series[l:r])\n",
    "        l += interval\n",
    "        r = l + frame\n",
    "    return windows"
   ]
  },
  {
   "cell_type": "code",
   "execution_count": 5,
   "metadata": {},
   "outputs": [
    {
     "name": "stdout",
     "output_type": "stream",
     "text": [
      "165 (15, 116)\n"
     ]
    }
   ],
   "source": [
    "window_length = 30 # 单位 s\n",
    "interval_second = 2 # 步长，单位 s\n",
    "\n",
    "windows = sliceWindows(time_series, window_length, interval_second)\n",
    "print(len(windows), windows[0].shape)"
   ]
  },
  {
   "cell_type": "code",
   "execution_count": 6,
   "metadata": {},
   "outputs": [],
   "source": [
    "sliced_time_series = {}\n",
    "for sub, ses in data.items():\n",
    "    sliced_time_series[sub] = {}\n",
    "    for op, runs in ses.items():\n",
    "        sliced_time_series[sub][op] = {}\n",
    "        for run, items in runs.items():\n",
    "            windows = sliceWindows(items[\"time_series\"], window_length, interval_second)\n",
    "            if windows:\n",
    "                sliced_time_series[sub][op][run] = {\n",
    "                    \"time_series\" : items[\"time_series\"],\n",
    "                    \"sliced_time_series\" : windows\n",
    "                }"
   ]
  },
  {
   "cell_type": "code",
   "execution_count": 7,
   "metadata": {},
   "outputs": [],
   "source": [
    "with open(\"silced_windows.pkl\", \"wb\") as f:\n",
    "    pickle.dump(sliced_time_series, f)"
   ]
  },
  {
   "cell_type": "code",
   "execution_count": null,
   "metadata": {},
   "outputs": [],
   "source": [
    "def load_data_and_save_siliding_window(load_path, save_path, window_length, interval_second):\n",
    "    with open(load_path, \"rb\") as f:\n",
    "        data = pickle.load(f)\n",
    "    sliced_time_series = {}\n",
    "    for sub, ses in data.items():\n",
    "        sliced_time_series[sub] = {}\n",
    "        for op, runs in ses.items():\n",
    "            sliced_time_series[sub][op] = {}\n",
    "            for run, items in runs.items():\n",
    "                windows = sliceWindows(items[\"time_series\"], window_length, interval_second)\n",
    "                if windows:\n",
    "                    sliced_time_series[sub][op][run] = {\n",
    "                        \"time_series\" : items[\"time_series\"],\n",
    "                        \"sliced_time_series\" : windows\n",
    "                    }\n",
    "    with open(save_path, \"wb\") as f:\n",
    "        pickle.dump(sliced_time_series, f)\n",
    "    return sliced_time_series"
   ]
  }
 ],
 "metadata": {
  "kernelspec": {
   "display_name": "Python 3.9.12 ('base')",
   "language": "python",
   "name": "python3"
  },
  "language_info": {
   "codemirror_mode": {
    "name": "ipython",
    "version": 3
   },
   "file_extension": ".py",
   "mimetype": "text/x-python",
   "name": "python",
   "nbconvert_exporter": "python",
   "pygments_lexer": "ipython3",
   "version": "3.9.12"
  },
  "orig_nbformat": 4,
  "vscode": {
   "interpreter": {
    "hash": "14da249aea668dd476485a6222a8c1fd2f2cd90c7005afa5442c69b6c853f2dc"
   }
  }
 },
 "nbformat": 4,
 "nbformat_minor": 2
}

{
 "cells": [
  {
   "cell_type": "code",
   "execution_count": 1,
   "metadata": {},
   "outputs": [],
   "source": [
    "from nilearn import connectome\n",
    "import numpy as np\n",
    "import os\n",
    "import math\n",
    "import pickle\n",
    "from sklearn import cluster, metrics\n",
    "import matplotlib as mpl\n",
    "import matplotlib.pyplot as plt\n",
    "from matplotlib.ticker import MaxNLocator\n",
    "from esfMRI import sliceWindows, plot_sates, cluster_save_states, clustering_evaluate, windows_evaluate, align, get_missing_state"
   ]
  },
  {
   "cell_type": "code",
   "execution_count": 2,
   "metadata": {},
   "outputs": [],
   "source": [
    "with open(\"time_series2.pkl\", \"rb\") as f:\n",
    "    data = pickle.load(f)"
   ]
  },
  {
   "cell_type": "code",
   "execution_count": 3,
   "metadata": {},
   "outputs": [],
   "source": [
    "subid = \"sub-314\""
   ]
  },
  {
   "cell_type": "code",
   "execution_count": 4,
   "metadata": {},
   "outputs": [],
   "source": [
    "mpl.use(\"agg\")\n",
    "window_length_Second = [120, 150, 180]\n",
    "sliding_steps = [1, 6, 12, 18]\n",
    "ks = list(range(2, 15))"
   ]
  },
  {
   "cell_type": "code",
   "execution_count": 9,
   "metadata": {},
   "outputs": [],
   "source": [
    "# 评估指定状态数时窗口尺寸的影响\n",
    "save_dir_preop = f\"cluster_evaluate/windows_length/{subid}/preop/\"\n",
    "save_dir_postop = f\"cluster_evaluate/windows_length/{subid}/postop/\"\n",
    "os.makedirs(save_dir_preop, exist_ok=True)\n",
    "os.makedirs(save_dir_postop, exist_ok=True)\n",
    "for step in sliding_steps:\n",
    "    windows_evaluate(data, subid, range(100, 181, 10), step, 3, save_dir_preop)\n",
    "    # clustering_evaluate(windows_postop, ks, save_path_postop)"
   ]
  },
  {
   "cell_type": "code",
   "execution_count": 6,
   "metadata": {},
   "outputs": [],
   "source": [
    "# 评估不同尺寸和不同步长下滑动窗口效果\n",
    "save_dir_preop = f\"cluster_evaluate/diff_steps/{subid}/preop/\"\n",
    "save_dir_postop = f\"cluster_evaluate/diff_steps/{subid}/postop/\"\n",
    "os.makedirs(save_dir_preop, exist_ok=True)\n",
    "os.makedirs(save_dir_postop, exist_ok=True)\n",
    "for time in window_length_Second:\n",
    "    for step in sliding_steps:\n",
    "        windows_preop = []\n",
    "        for run, items in data[subid][\"ses-preop\"].items():\n",
    "            preopTR = math.ceil(time/items[\"TR\"])\n",
    "            stepTR = math.ceil(step/items[\"TR\"])\n",
    "            windows_preop += sliceWindows(items[\"time_series\"], preopTR, stepTR)\n",
    "        windows_postop = []\n",
    "        for run, items in data[subid][\"ses-postop\"].items():\n",
    "            postopTR = math.ceil(time/items[\"TR\"])\n",
    "            stepTR = math.ceil(step/items[\"TR\"])\n",
    "            windows_postop += sliceWindows(items[\"time_series\"], postopTR, stepTR)\n",
    "        os.makedirs(f\"{save_dir_preop}/{time}s\", exist_ok=True)\n",
    "        os.makedirs(f\"{save_dir_postop}/{time}s\", exist_ok=True)\n",
    "        save_path_preop = f\"{save_dir_preop}/{time}s/{step}s.png\"\n",
    "        save_path_postop = f\"{save_dir_postop}/{time}s/{step}s.png\"\n",
    "        if len(windows_preop) > 2:\n",
    "            if not os.path.exists(save_path_preop):\n",
    "                clustering_evaluate(windows_preop, ks, save_path_preop)\n",
    "        if len(windows_postop) > 2:\n",
    "            if not os.path.exists(save_path_postop):\n",
    "                clustering_evaluate(windows_postop, ks, save_path_postop)\n",
    "        plt.cla()\n",
    "        plt.clf()\n",
    "        plt.close(\"all\")"
   ]
  },
  {
   "cell_type": "code",
   "execution_count": 7,
   "metadata": {},
   "outputs": [],
   "source": [
    "# group average\n",
    "align_length = 130\n",
    "save_dir_preop = f\"cluster_evaluate/average/{subid}/preop/\"\n",
    "save_dir_postop = f\"cluster_evaluate/average/{subid}/postop/\"\n",
    "os.makedirs(save_dir_preop, exist_ok=True)\n",
    "os.makedirs(save_dir_postop, exist_ok=True)\n",
    "time_series_preop = None\n",
    "time_series_postop = None\n",
    "count = 0\n",
    "for run, items in data[subid][\"ses-preop\"].items():\n",
    "    if items[\"time_series\"].shape[0] < align_length:\n",
    "        continue\n",
    "    count += 1\n",
    "    time_series_preop = align(items[\"time_series\"], align_length) if time_series_preop is None else time_series_preop + align(items[\"time_series\"], align_length)\n",
    "time_series_preop = time_series_preop/count\n",
    "align_length = 200\n",
    "count = 0\n",
    "for run, items in data[subid][\"ses-postop\"].items():\n",
    "    if items[\"time_series\"].shape[0] < align_length:\n",
    "        continue\n",
    "    count += 1\n",
    "    time_series_postop = align(items[\"time_series\"], align_length) if time_series_postop is None else time_series_postop + align(items[\"time_series\"], align_length)\n",
    "time_series_postop = time_series_postop/count\n"
   ]
  },
  {
   "cell_type": "code",
   "execution_count": 8,
   "metadata": {},
   "outputs": [],
   "source": [
    "# group average evaluate\n",
    "for time in window_length_Second:\n",
    "    preopTR = math.ceil(time/data[subid][\"ses-preop\"][\"run-01\"][\"TR\"])\n",
    "    postopTR = math.ceil(time/data[subid][\"ses-postop\"][\"run-01\"][\"TR\"])\n",
    "    for step in sliding_steps:\n",
    "        windows_preop = sliceWindows(time_series_preop, preopTR, step)\n",
    "        windows_postop = sliceWindows(time_series_postop, postopTR, step)\n",
    "        os.makedirs(f\"{save_dir_preop}/{time}s\", exist_ok=True)\n",
    "        os.makedirs(f\"{save_dir_postop}/{time}s\", exist_ok=True)\n",
    "        save_path_preop = f\"{save_dir_preop}/{time}s/{step}s.png\"\n",
    "        save_path_postop = f\"{save_dir_postop}/{time}s/{step}s.png\"\n",
    "        if len(windows_preop) > 2:\n",
    "            if not os.path.exists(save_path_preop):\n",
    "                clustering_evaluate(windows_preop, ks, save_path_preop)\n",
    "        if len(windows_postop) > 2:\n",
    "            if not os.path.exists(save_path_postop):\n",
    "                clustering_evaluate(windows_postop, ks, save_path_postop)\n",
    "        plt.cla()\n",
    "        plt.clf()\n",
    "        plt.close(\"all\")"
   ]
  },
  {
   "cell_type": "code",
   "execution_count": 11,
   "metadata": {},
   "outputs": [],
   "source": [
    "# 平均后聚4类，状态变化\n",
    "target_states = 3\n",
    "for time in window_length_Second:\n",
    "    preopTR = math.ceil(time/data[subid][\"ses-preop\"][\"run-01\"][\"TR\"])\n",
    "    postopTR = math.ceil(time/data[subid][\"ses-postop\"][\"run-01\"][\"TR\"])\n",
    "    for step in sliding_steps:\n",
    "        windows_preop = sliceWindows(time_series_preop, preopTR, step)\n",
    "        windows_postop = sliceWindows(time_series_postop, postopTR, step)\n",
    "        if len(windows_preop) <= target_states and len(windows_postop) <= target_states:\n",
    "            continue\n",
    "        save_dir = f\"states/average/{subid}/{time}/{step}\"\n",
    "        os.makedirs(save_dir, exist_ok=True)\n",
    "        cluster_save_states(windows_preop, windows_postop, target_states, save_dir)"
   ]
  },
  {
   "cell_type": "code",
   "execution_count": null,
   "metadata": {},
   "outputs": [],
   "source": [
    "# 拼接后聚类\n",
    "target_states = 3\n",
    "for time in window_length_Second:\n",
    "    preopTR = math.ceil(time/data[subid][\"ses-preop\"][\"run-01\"][\"TR\"])\n",
    "    postopTR = math.ceil(time/data[subid][\"ses-postop\"][\"run-01\"][\"TR\"])\n",
    "    for step in sliding_steps:\n",
    "        windows_preop = []\n",
    "        windows_postop = []\n",
    "        for run, items in data[subid][\"ses-preop\"].items():\n",
    "            windows_preop += sliceWindows(items[\"time_series\"], preopTR, step)\n",
    "        for run, items in data[subid][\"ses-postop\"].items():\n",
    "            windows_postop += sliceWindows(items[\"time_series\"], postopTR, step)\n",
    "        save_dir = f\"states/joint/{subid}/{time}/{step}\"\n",
    "        os.makedirs(save_dir, exist_ok=True)\n",
    "        cluster_save_states(windows_preop, windows_postop, target_states, save_dir)"
   ]
  },
  {
   "cell_type": "code",
   "execution_count": 5,
   "metadata": {},
   "outputs": [],
   "source": [
    "# 拼接后聚类，输出缺少的状态\n",
    "target_states = 3\n",
    "step = 1\n",
    "for time in window_length_Second:\n",
    "    preopTR = math.ceil(time/data[subid][\"ses-preop\"][\"run-01\"][\"TR\"])\n",
    "    postopTR = math.ceil(time/data[subid][\"ses-postop\"][\"run-01\"][\"TR\"])\n",
    "    windows_preop = []\n",
    "    windows_postop = []\n",
    "    for run, items in data[subid][\"ses-preop\"].items():\n",
    "        windows_preop += sliceWindows(items[\"time_series\"], preopTR, step)\n",
    "    for run, items in data[subid][\"ses-postop\"].items():\n",
    "        windows_postop += sliceWindows(items[\"time_series\"], postopTR, step)\n",
    "    save_dir = f\"missing_state/joint/{subid}/{target_states}states/{time}/\"\n",
    "    os.makedirs(save_dir, exist_ok=True)\n",
    "    fcs = get_missing_state(windows_preop, windows_postop, target_states, save_dir)"
   ]
  }
 ],
 "metadata": {
  "kernelspec": {
   "display_name": "base",
   "language": "python",
   "name": "python3"
  },
  "language_info": {
   "codemirror_mode": {
    "name": "ipython",
    "version": 3
   },
   "file_extension": ".py",
   "mimetype": "text/x-python",
   "name": "python",
   "nbconvert_exporter": "python",
   "pygments_lexer": "ipython3",
   "version": "3.9.12"
  },
  "orig_nbformat": 4,
  "vscode": {
   "interpreter": {
    "hash": "14da249aea668dd476485a6222a8c1fd2f2cd90c7005afa5442c69b6c853f2dc"
   }
  }
 },
 "nbformat": 4,
 "nbformat_minor": 2
}

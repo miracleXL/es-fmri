{
 "cells": [
  {
   "cell_type": "code",
   "execution_count": null,
   "metadata": {},
   "outputs": [],
   "source": [
    "from sklearn import cluster\n",
    "from sklearn import metrics\n",
    "import pickle"
   ]
  },
  {
   "cell_type": "code",
   "execution_count": null,
   "metadata": {},
   "outputs": [],
   "source": [
    "# 采用K-Means聚类\n",
    "k = 10"
   ]
  },
  {
   "cell_type": "markdown",
   "metadata": {},
   "source": [
    "### 猜测聚类簇数\n",
    "\n",
    "1. 肘点法：绘制inertia随k值变化的曲线，转折幅度最大的点作为簇数。\n",
    "\n",
    "### 评估聚类质量\n",
    "\n",
    "对于不存在已知分类的评价，只能采用内部评价指标  \n",
    "基础参数有\n",
    "1. 紧密度（Compactness）\n",
    "2. 分割度（Seperation）\n",
    "3. 误差平方和（SSE: Sum of squares of errors）\n",
    "\n",
    "评价指标\n",
    "1. 轮廓系数 —— 越大越好\n",
    "2. Calinski-Harabasz Index（CH） —— 越大越好\n",
    "3. Davies-Bouldin Index（DB） —— 越小越好"
   ]
  },
  {
   "cell_type": "code",
   "execution_count": null,
   "metadata": {},
   "outputs": [],
   "source": [
    "# 如果直接导入FCs\n",
    "with open(\"FCs.pkl\", \"rb\") as f:\n",
    "    FCs = pickle.load(f)\n",
    "for sub, ses in FCs.items():\n",
    "    for op, runs in ses.items():\n",
    "        for run, items in runs.items():\n",
    "            center, states, inertia = cluster.k_means(items[\"sliced\"].reshape((items[\"sliced\"].shape[0], 13456)), 10)\n",
    "            metrics.silhouette_score(items[\"sliced\"], states)"
   ]
  }
 ],
 "metadata": {
  "kernelspec": {
   "display_name": "Python 3.9.12 ('base')",
   "language": "python",
   "name": "python3"
  },
  "language_info": {
   "name": "python",
   "version": "3.9.12"
  },
  "orig_nbformat": 4,
  "vscode": {
   "interpreter": {
    "hash": "14da249aea668dd476485a6222a8c1fd2f2cd90c7005afa5442c69b6c853f2dc"
   }
  }
 },
 "nbformat": 4,
 "nbformat_minor": 2
}

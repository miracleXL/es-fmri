{
 "cells": [
  {
   "cell_type": "code",
   "execution_count": 1,
   "metadata": {},
   "outputs": [],
   "source": [
    "from esfMRI import sliceWindows, joint_cluster_save_states, plot_sates, align, clustering_evaluate, windows_evaluate, step_evaluate, AIC, BIC, plot_evaluated\n",
    "from sklearn import cluster, metrics\n",
    "from nilearn import connectome\n",
    "import numpy as np\n",
    "import pickle\n",
    "import math\n",
    "import os"
   ]
  },
  {
   "attachments": {},
   "cell_type": "markdown",
   "metadata": {},
   "source": [
    "### 猜测聚类簇数\n",
    "\n",
    "1. 肘点法：绘制inertia随k值变化的曲线，转折幅度最大的点作为簇数。\n",
    "\n",
    "### 评估聚类质量\n",
    "\n",
    "对于不存在已知分类的评价，只能采用内部评价指标  \n",
    "基础参数有\n",
    "1. 紧密度（Compactness）\n",
    "2. 分割度（Seperation）\n",
    "3. 误差平方和（SSE: Sum of squares of errors）\n",
    "\n",
    "评价指标\n",
    "1. Silhouette Coefficient（轮廓系数） —— 越大越好\n",
    "2. Calinski-Harabasz Index（CH） —— 越大越好\n",
    "3. Davies-Bouldin Index（DB） —— 越小越好"
   ]
  },
  {
   "cell_type": "code",
   "execution_count": 2,
   "metadata": {},
   "outputs": [],
   "source": [
    "# 可调节参数\n",
    "# Adjustable parameters\n",
    "window_length_Second = [40, 45, 50, 55, 60, 65, 70, 75, 80] # 窗口尺寸，单位s\n",
    "sliding_step = 1 # 滑动步长，单位TR\n",
    "target_states = [2, 3, 4] # 目标状态数"
   ]
  },
  {
   "attachments": {},
   "cell_type": "markdown",
   "metadata": {},
   "source": [
    "* 评估滑动窗口参数影响\n",
    "* evaluate impact of sliding windows parameters"
   ]
  },
  {
   "cell_type": "code",
   "execution_count": 3,
   "metadata": {},
   "outputs": [],
   "source": [
    "# 导入时间序列\n",
    "with open(\"time_series2.pkl\", \"rb\") as f:\n",
    "    data = pickle.load(f)"
   ]
  },
  {
   "cell_type": "code",
   "execution_count": 4,
   "metadata": {},
   "outputs": [],
   "source": [
    "# 拼接后聚类评估窗口尺寸影响\n",
    "# evaluate impact of window size on quality of clustering\n",
    "for subid in data:\n",
    "    for k in target_states:\n",
    "        save_dir = f\"./cluster_evaluate/window_length/joint/{subid}\"\n",
    "        os.makedirs(save_dir, exist_ok=True)\n",
    "        windows_evaluate(data, subid, range(30, 180, 10), 1, k, f\"{save_dir}/{k}_states.png\")"
   ]
  },
  {
   "cell_type": "code",
   "execution_count": 5,
   "metadata": {},
   "outputs": [],
   "source": [
    "# 评估窗口尺寸，全部数据拼接\n",
    "# evaluate impact of window size on quality of clustering\n",
    "for k in target_states:\n",
    "    inertias = []\n",
    "    scs = []\n",
    "    chs = []\n",
    "    dbs = []\n",
    "    for time in range(30, 180, 10):\n",
    "        windows = []\n",
    "        # sample_weight = []\n",
    "        for subid in data:\n",
    "            for run, items in data[subid][\"ses-preop\"].items():\n",
    "                preopFrame = math.ceil(time/items[\"TR\"])\n",
    "                tmp = sliceWindows(items[\"time_series\"], preopFrame, sliding_step)\n",
    "                windows += tmp\n",
    "                # sample_weight += [4]*len(tmp)\n",
    "            for run, items in data[subid][\"ses-postop\"].items():\n",
    "                postopFrame = math.ceil(time/items[\"TR\"])\n",
    "                tmp += sliceWindows(items[\"time_series\"], postopFrame, sliding_step)\n",
    "                windows += tmp\n",
    "                # sample_weight += [1]*len(tmp)\n",
    "        fcs = connectome.ConnectivityMeasure(kind=\"correlation\").fit_transform(windows)\n",
    "        del windows\n",
    "        fcs = fcs.reshape((fcs.shape[0], 13456))\n",
    "        if k < fcs.shape[0]:\n",
    "            # center, states, inertia = cluster.k_means(fcs, k, sample_weight=sample_weight)\n",
    "            center, states, inertia = cluster.k_means(fcs, k)\n",
    "            inertias.append(inertia) # 肘点法\n",
    "            scs.append(metrics.silhouette_score(fcs, states)) # 轮廓系数\n",
    "            chs.append(metrics.calinski_harabasz_score(fcs, states)) # CH，方差比\n",
    "            dbs.append(metrics.davies_bouldin_score(fcs, states)) # DB\n",
    "        else:\n",
    "            inertias.append(inertias[-1])\n",
    "            scs.append(scs[-1])\n",
    "            chs.append(chs[-1])\n",
    "            dbs.append(dbs[-1])\n",
    "        del fcs\n",
    "    # 绘图\n",
    "    save_dir = f\"cluster_evaluate/window_length/total\"\n",
    "    os.makedirs(save_dir, exist_ok=True)\n",
    "    plot_evaluated(range(30, 180, 10), inertias=inertias, scs=scs, chs=chs, dbs=dbs, aic=None, bic=None, save_path=f\"{save_dir}/{k}_states.png\")"
   ]
  },
  {
   "cell_type": "code",
   "execution_count": 4,
   "metadata": {},
   "outputs": [],
   "source": [
    "# 全部拼接后聚类评估步长影响\n",
    "# evaluate impact of sliding steps on quality of clustering\n",
    "save_dir = \"cluster_evaluate/step\"\n",
    "for time in window_length_Second:\n",
    "    for k in target_states:\n",
    "        step_evaluate(data, None, time, range(1, 10), k, save_path=f\"{save_dir}/{time}_{k}.png\")"
   ]
  },
  {
   "attachments": {},
   "cell_type": "markdown",
   "metadata": {},
   "source": [
    "* 评估聚类效果选择最佳状态数\n",
    "* evaluate and select the best target states"
   ]
  },
  {
   "cell_type": "code",
   "execution_count": 3,
   "metadata": {},
   "outputs": [],
   "source": [
    "# 加载滑动窗口拆分过的数据\n",
    "# load pickle data generated in slidingWindow.ipynb\n",
    "window_length = 60\n",
    "with open(f\"dFC/{window_length}_slidingWindows.pkl\", \"rb\") as f:\n",
    "    slidingWindows = pickle.load(f)"
   ]
  },
  {
   "cell_type": "code",
   "execution_count": 4,
   "metadata": {},
   "outputs": [],
   "source": [
    "# 拼接后聚类，评估状态数对聚类效果影响\n",
    "# evaluate impact of target states on quality of clustering\n",
    "windows_preop = []\n",
    "windows_postop = []\n",
    "save_path = \"cluster_evaluate/total\"\n",
    "os.makedirs(save_path, exist_ok=True)\n",
    "for subid in slidingWindows:\n",
    "        windows_preop += slidingWindows[subid][\"ses-preop\"][\"total\"]\n",
    "        windows_postop += slidingWindows[subid][\"ses-postop\"][\"total\"]\n",
    "clustering_evaluate(windows_preop, range(2, 11), f\"{save_path}/{time}_preop.png\")\n",
    "clustering_evaluate(windows_postop, range(2, 11), f\"{save_path}/{time}_postop.png\")\n",
    "clustering_evaluate(windows_preop+windows_postop, range(2, 11), f\"{save_path}/{time}_total.png\")"
   ]
  },
  {
   "attachments": {},
   "cell_type": "markdown",
   "metadata": {},
   "source": [
    "* 绘制输出状态变化\n",
    "* plot states changing"
   ]
  },
  {
   "cell_type": "code",
   "execution_count": 3,
   "metadata": {},
   "outputs": [],
   "source": [
    "# load pickle data generated in slidingWindow.ipynb\n",
    "window_length = 60\n",
    "with open(f\"dFC/{window_length}_dFCs.pkl\", \"rb\") as f:\n",
    "    dFCs = pickle.load(f)"
   ]
  },
  {
   "cell_type": "code",
   "execution_count": 4,
   "metadata": {},
   "outputs": [],
   "source": [
    "# 全体拼接后聚类，保存聚类结果对象\n",
    "# clustering and save KMeans objects\n",
    "save_path = \"states/total\"\n",
    "os.makedirs(save_path, exist_ok=True)\n",
    "dfcs = None\n",
    "for subid in dFCs:\n",
    "    # preop\n",
    "    if \"total\" in dFCs[subid][\"ses-preop\"]:\n",
    "        if dfcs is None:\n",
    "            dfcs = dFCs[subid][\"ses-preop\"][\"total\"].reshape((dFCs[subid][\"ses-preop\"][\"total\"].shape[0], 13456))\n",
    "        else:\n",
    "            dfcs = np.vstack((dfcs, dFCs[subid][\"ses-preop\"][\"total\"].reshape((dFCs[subid][\"ses-preop\"][\"total\"].shape[0], 13456))))\n",
    "    else:\n",
    "        for run in dFCs[subid][\"ses-preop\"]:\n",
    "            if dfcs is None:\n",
    "                dfcs = dFCs[subid][\"ses-preop\"][run].reshape((dFCs[subid][\"ses-preop\"][run].shape[0], 13456))\n",
    "            else:\n",
    "                dfcs = np.vstack((dfcs, dFCs[subid][\"ses-preop\"][run].reshape((dFCs[subid][\"ses-preop\"][run].shape[0], 13456))))\n",
    "    # postop\n",
    "    if \"total\" in dFCs[subid][\"ses-postop\"]:\n",
    "        if dfcs is None:\n",
    "            dfcs = dFCs[subid][\"ses-postop\"][\"total\"].reshape((dFCs[subid][\"ses-postop\"][\"total\"].shape[0], 13456))\n",
    "        else:\n",
    "            dfcs = np.vstack((dfcs, dFCs[subid][\"ses-postop\"][\"total\"].reshape((dFCs[subid][\"ses-postop\"][\"total\"].shape[0], 13456))))\n",
    "    else:\n",
    "        for run in dFCs[subid][\"ses-postop\"]:\n",
    "            if dfcs is None:\n",
    "                dfcs = dFCs[subid][\"ses-postop\"][run].reshape((dFCs[subid][\"ses-postop\"][run].shape[0], 13456))\n",
    "            else:\n",
    "                dfcs = np.vstack((dfcs, dFCs[subid][\"ses-postop\"][run].reshape((dFCs[subid][\"ses-postop\"][run].shape[0], 13456))))\n",
    "\n",
    "# 释放内存\n",
    "del dFCs\n",
    "fcs = np.vstack((dfcs, dfcs))\n",
    "\n",
    "# 保存聚类对象\n",
    "for k in target_states:\n",
    "    km = cluster.KMeans(k)\n",
    "    km.fit(fcs)\n",
    "    save_dir = f\"{save_path}/cluster\"\n",
    "    os.makedirs(save_dir, exist_ok=True)\n",
    "    with open(f\"{save_dir}/km_{window_length}s_{k}states.pkl\", \"wb\") as f:\n",
    "        pickle.dump(km, f)\n"
   ]
  }
 ],
 "metadata": {
  "kernelspec": {
   "display_name": "base",
   "language": "python",
   "name": "python3"
  },
  "language_info": {
   "codemirror_mode": {
    "name": "ipython",
    "version": 3
   },
   "file_extension": ".py",
   "mimetype": "text/x-python",
   "name": "python",
   "nbconvert_exporter": "python",
   "pygments_lexer": "ipython3",
   "version": "3.7.3"
  },
  "orig_nbformat": 4,
  "vscode": {
   "interpreter": {
    "hash": "14da249aea668dd476485a6222a8c1fd2f2cd90c7005afa5442c69b6c853f2dc"
   }
  }
 },
 "nbformat": 4,
 "nbformat_minor": 2
}

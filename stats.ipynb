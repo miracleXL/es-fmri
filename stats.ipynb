{
 "cells": [
  {
   "cell_type": "code",
   "execution_count": 1,
   "metadata": {},
   "outputs": [],
   "source": [
    "import pickle\n",
    "import numpy as np\n",
    "import networkx as nx\n",
    "import matplotlib as mpl\n",
    "import matplotlib.pyplot as plt\n",
    "from scipy import stats\n",
    "import glob\n",
    "from esfMRI import stats_tests\n",
    "from statsmodels.stats import nonparametric"
   ]
  },
  {
   "cell_type": "code",
   "execution_count": 2,
   "metadata": {},
   "outputs": [],
   "source": [
    "with open(\"graph_theory/graphs.pkl\", \"rb\") as f:\n",
    "    graphs = pickle.load(f)"
   ]
  },
  {
   "cell_type": "code",
   "execution_count": 3,
   "metadata": {},
   "outputs": [],
   "source": [
    "keys = ['k_core', 'clustering', 'modularity', 'degree_assortativity_coefficient', 'global_efficiency', 'local_efficiency', 'ratio']"
   ]
  },
  {
   "cell_type": "code",
   "execution_count": 22,
   "metadata": {},
   "outputs": [
    {
     "name": "stdout",
     "output_type": "stream",
     "text": [
      "k_core\n",
      "18.271186440677965 10.78225806451613\n",
      "(3.5777571793472034, 0.0006278687544275844)\n",
      "\n",
      "clustering\n",
      "0.5036242340701673 0.42831556601054516\n",
      "(3.3542868301825366, 0.0012630603700364226)\n",
      "\n",
      "modularity\n",
      "0.3969259107538807 0.5395620434183688\n",
      "(-4.357498039065151, 4.4915576487471325e-05)\n",
      "\n",
      "degree_assortativity_coefficient\n",
      "无明显变化\n",
      "0.3610935037244088 0.37301312164720424\n",
      "(-0.4412944397452481, 0.6596977536935209)\n",
      "\n",
      "global_efficiency\n",
      "0.35891723304123 0.23567027091724752\n",
      "(5.03830539575699, 3.6644414622402904e-06)\n",
      "\n",
      "local_efficiency\n",
      "0.6089266852989381 0.5168289154232767\n",
      "(3.8663531002476645, 0.00024188659625942513)\n",
      "\n",
      "ratio\n",
      "2.0602794109057267 2.84975460445315\n",
      "(-6.270066178177548, 2.3912170573460824e-08)\n",
      "\n"
     ]
    }
   ],
   "source": [
    "# 对每个参数整体应用统计学分析\n",
    "for key in keys:\n",
    "    measures_preop = []\n",
    "    measures_postop = []\n",
    "    for sub in graphs:\n",
    "        for run, graph in graphs[sub][\"ses-preop\"].items():\n",
    "            if key == \"clustering\":\n",
    "                measures_preop.append(sum(graph[key].values())/116)\n",
    "            elif not np.isnan(graph[key]):\n",
    "                measures_preop.append(graph[key])\n",
    "        for run, graph in graphs[sub][\"ses-postop\"].items():\n",
    "            if key == \"clustering\":\n",
    "                measures_postop.append(sum(graph[key].values())/116)\n",
    "            elif not np.isnan(graph[key]):\n",
    "                measures_postop.append(graph[key])\n",
    "    p_values = stats_tests(measures_preop, measures_postop, False)\n",
    "    #     print(p_values)\n",
    "    # else:\n",
    "    print(key)\n",
    "    if np.any(p_values[4:5] > 0.05):\n",
    "        print(\"无明显变化\")\n",
    "    print(sum(measures_preop)/len(measures_preop), sum(measures_postop)/len(measures_postop))\n",
    "    print(nonparametric.rank_compare_2indep(measures_preop, measures_postop).tuple)\n",
    "    print()"
   ]
  }
 ],
 "metadata": {
  "kernelspec": {
   "display_name": "Python 3.11.3 ('py11')",
   "language": "python",
   "name": "python3"
  },
  "language_info": {
   "codemirror_mode": {
    "name": "ipython",
    "version": 3
   },
   "file_extension": ".py",
   "mimetype": "text/x-python",
   "name": "python",
   "nbconvert_exporter": "python",
   "pygments_lexer": "ipython3",
   "version": "3.11.3"
  },
  "orig_nbformat": 4,
  "vscode": {
   "interpreter": {
    "hash": "0102885850472d4b48be635951678564d66fcf30e6ac4d4598338ada28877327"
   }
  }
 },
 "nbformat": 4,
 "nbformat_minor": 2
}

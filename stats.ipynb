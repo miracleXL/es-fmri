{
 "cells": [
  {
   "cell_type": "code",
   "execution_count": 21,
   "metadata": {},
   "outputs": [],
   "source": [
    "import pickle\n",
    "import numpy as np\n",
    "import networkx as nx\n",
    "from scipy import stats\n",
    "from nilearn import datasets\n",
    "import json\n",
    "from graph import cal_graph\n",
    "from esfMRI import stats_tests\n",
    "from statsmodels.stats import nonparametric"
   ]
  },
  {
   "cell_type": "code",
   "execution_count": 22,
   "metadata": {},
   "outputs": [],
   "source": [
    "atlas_labels = datasets.fetch_atlas_aal()[\"labels\"]"
   ]
  },
  {
   "cell_type": "code",
   "execution_count": 23,
   "metadata": {},
   "outputs": [],
   "source": [
    "with open(\"datasets.json\", \"r\") as f:\n",
    "    dataset = json.load(f)"
   ]
  },
  {
   "cell_type": "code",
   "execution_count": 5,
   "metadata": {},
   "outputs": [],
   "source": [
    "with open(\"time_series2.pkl\", \"rb\") as f:\n",
    "    time_series = pickle.load(f)"
   ]
  },
  {
   "cell_type": "code",
   "execution_count": 6,
   "metadata": {},
   "outputs": [
    {
     "name": "stdout",
     "output_type": "stream",
     "text": [
      "Frontal_Med_Orb_R 存在明显差异\n",
      "Rectus_L 存在明显差异\n",
      "Vermis_6 存在明显差异\n",
      "3 113\n"
     ]
    }
   ],
   "source": [
    "# 对每个脑区的时间序列进行统计学检验\n",
    "cnt_change = 0\n",
    "cnt_nochange = 0\n",
    "for i in range(116):\n",
    "    ts_preop = []\n",
    "    ts_postop = []\n",
    "    for sub in time_series:\n",
    "        for run in time_series[sub][\"ses-preop\"]:\n",
    "            ts_preop.append(time_series[sub][\"ses-preop\"][run][\"time_series\"].T[i])\n",
    "    for sub in time_series:\n",
    "        for run in time_series[sub][\"ses-postop\"]:\n",
    "            ts_postop.append(time_series[sub][\"ses-postop\"][run][\"time_series\"].T[i])\n",
    "    # time_series[\"sub-292\"][\"ses-preop\"][\"run-02\"][\"time_series\"].T[i]\n",
    "    # time_series[\"sub-292\"][\"ses-postop\"][\"run-01\"][\"time_series\"].T[i]\n",
    "    ts_preop = np.hstack(ts_preop)\n",
    "    ts_postop = np.hstack(ts_postop)\n",
    "\n",
    "    # Wilcoxon秩和检验\n",
    "    rs_stat, p_value_rs = stats.ranksums(ts_preop, ts_postop)\n",
    "    # print(\"Wilcoxon秩和检验: \", rs_stat, p_value_rs)\n",
    "    # 曼-惠特尼U检验\n",
    "    mw_stat, p_value_m = stats.mannwhitneyu(ts_preop, ts_postop)\n",
    "    # print(\"曼-惠特尼U检验: \", mw_stat, p_value_m)\n",
    "    if p_value_rs < 0.01 and p_value_m < 0.01:\n",
    "        print(atlas_labels[i], \"存在明显差异\")\n",
    "        cnt_change += 1\n",
    "    elif p_value_rs >= 0.01 and p_value_m >= 0.01:\n",
    "        # print(atlas_labels[i], \"不存在明显差异\")\n",
    "        cnt_nochange += 1\n",
    "    else:\n",
    "        print(atlas_labels[i], \"无法确定\")\n",
    "print(cnt_change, cnt_nochange)"
   ]
  },
  {
   "cell_type": "code",
   "execution_count": 4,
   "metadata": {},
   "outputs": [],
   "source": [
    "with open(\"FCs.pkl\", \"rb\") as f:\n",
    "    FCs = pickle.load(f)"
   ]
  },
  {
   "cell_type": "code",
   "execution_count": 5,
   "metadata": {},
   "outputs": [
    {
     "data": {
      "text/plain": [
       "(116, 116)"
      ]
     },
     "execution_count": 5,
     "metadata": {},
     "output_type": "execute_result"
    }
   ],
   "source": [
    "FCs[\"sub-292\"][\"ses-preop\"][\"run-01\"].shape"
   ]
  },
  {
   "cell_type": "code",
   "execution_count": 12,
   "metadata": {},
   "outputs": [
    {
     "name": "stdout",
     "output_type": "stream",
     "text": [
      "Vermis_1_2 error\n",
      "98 18\n"
     ]
    }
   ],
   "source": [
    "# 对每个脑区的功能连接进行统计学检验\n",
    "cnt_change = 0\n",
    "cnt_nochange = 0\n",
    "p_threshold = 0.001\n",
    "for i in range(116):\n",
    "    fc_preop = []\n",
    "    fc_postop = []\n",
    "    for sub in FCs:\n",
    "        for run in FCs[sub][\"ses-preop\"]:\n",
    "            fc_preop.append(FCs[sub][\"ses-preop\"][run][i])\n",
    "    for sub in FCs:\n",
    "        for run in FCs[sub][\"ses-postop\"]:\n",
    "            fc_postop.append(FCs[sub][\"ses-postop\"][run][i])\n",
    "    fc_preop = np.hstack(fc_preop)\n",
    "    fc_postop = np.hstack(fc_postop)\n",
    "\n",
    "    # Wilcoxon秩和检验\n",
    "    rs_stat, rs_p_value = stats.ranksums(fc_preop, fc_postop)\n",
    "    # print(\"Wilcoxon秩和检验: \", rs_stat, p_value_rs)\n",
    "    # 曼-惠特尼U检验\n",
    "    mw_stat, m_p_value = stats.mannwhitneyu(fc_preop, fc_postop)\n",
    "    # print(\"曼-惠特尼U检验: \", mw_stat, p_value_m)\n",
    "    if rs_p_value < p_threshold and m_p_value < p_threshold:\n",
    "        if rs_p_value == 0 and m_p_value ==0:\n",
    "            print(atlas_labels[i], \"error\")\n",
    "        # print(atlas_labels[i], \"存在明显差异\")\n",
    "        # print(rs_p_value)\n",
    "        cnt_change += 1\n",
    "    elif rs_p_value >= p_threshold and m_p_value >= p_threshold:\n",
    "        # print(atlas_labels[i], \"不存在明显差异\")\n",
    "        cnt_nochange += 1\n",
    "    else:\n",
    "        print(atlas_labels[i], \"无法确定\")\n",
    "print(cnt_change, cnt_nochange)"
   ]
  },
  {
   "cell_type": "code",
   "execution_count": 5,
   "metadata": {},
   "outputs": [],
   "source": [
    "graphs = {}\n",
    "threshold = 45\n",
    "for subid in FCs:\n",
    "    # if len(FCs[subid][\"ses-preop\"]) == 0:\n",
    "    #     continue\n",
    "    graphs[subid] = {\n",
    "        \"ses-preop\":{},\n",
    "        \"ses-postop\":{}\n",
    "    }\n",
    "    for run, fc in FCs[subid][\"ses-preop\"].items():\n",
    "        graphs[subid][\"ses-preop\"][run] = cal_graph(fc, threshold)\n",
    "    for run, fc in FCs[subid][\"ses-postop\"].items():\n",
    "        graphs[subid][\"ses-postop\"][run] = cal_graph(fc, threshold)\n",
    "with open(\"graph_theory/graphs_static.pkl\", \"wb\") as f:\n",
    "    pickle.dump(graphs, f)"
   ]
  },
  {
   "cell_type": "code",
   "execution_count": 24,
   "metadata": {},
   "outputs": [],
   "source": [
    "with open(\"graph_theory/graphs_static.pkl\", \"rb\") as f:\n",
    "    graphs = pickle.load(f)"
   ]
  },
  {
   "cell_type": "code",
   "execution_count": 25,
   "metadata": {},
   "outputs": [],
   "source": [
    "core_num_preop = []\n",
    "core_num_postop = []\n",
    "\n",
    "# degree_centrality_preop = []\n",
    "# degree_centrality_postop = []\n",
    "# closeness_centrality_preop = []\n",
    "# closeness_centrality_postop = []\n",
    "# betweenness_centrality_preop = []\n",
    "# betweenness_centrality_postop = []\n",
    "# eigenvector_centrality_preop = []\n",
    "# eigenvector_centrality_postop = []\n",
    "\n",
    "# triangles_preop = []\n",
    "# triangles_postop = []\n",
    "clustering_preop = []\n",
    "clustering_postop = []\n",
    "transitivity_preop = []\n",
    "transitivity_postop = []\n",
    "\n",
    "degree_assortativity_coefficient_preop = []\n",
    "degree_assortativity_coefficient_postop = []\n",
    "# average_neighbor_degree_preop = []\n",
    "# average_neighbor_degree_postop = []\n",
    "# average_degree_connectivity_preop = []\n",
    "# average_degree_connectivity_postop = []\n",
    "\n",
    "global_efficiency_preop = []\n",
    "global_efficiency_postop = []\n",
    "local_efficiency_preop = []\n",
    "local_efficiency_postop = []\n",
    "ratio_preop = []\n",
    "ratio_postop = []\n",
    "\n",
    "for subid, graph in graphs.items():\n",
    "    if len(graph[\"ses-preop\"]) > 0:\n",
    "        for run in graph[\"ses-preop\"]:\n",
    "            core_num_preop.append(graph[\"ses-preop\"][run][\"k_core\"])\n",
    "            \n",
    "            # degree_centrality_preop.append(list(graph[\"ses-preop\"][run][\"degree_centrality\"].values()))\n",
    "            # closeness_centrality_preop.append(list(graph[\"ses-preop\"][run][\"closeness_centrality\"].values()))\n",
    "            # betweenness_centrality_preop.append(list(graph[\"ses-preop\"][run][\"betweenness_centrality\"].values()))\n",
    "            # if \"eigenvector_centrality\" in graph[\"ses-preop\"][run]:\n",
    "            #     eigenvector_centrality_preop.append(list(graph[\"ses-preop\"][run][\"eigenvector_centrality\"].values()))\n",
    "            \n",
    "            # triangles_preop.append(list(graph[\"ses-preop\"][run][\"triangles\"].values()))\n",
    "            clustering_preop.append(list(graph[\"ses-preop\"][run][\"clustering\"].values()))\n",
    "            transitivity_preop.append(graph[\"ses-preop\"][run][\"transitivity\"])\n",
    "            \n",
    "            degree_assortativity_coefficient_preop.append(graph[\"ses-preop\"][run][\"degree_assortativity_coefficient\"])\n",
    "            # average_neighbor_degree_preop.append(list(graph[\"ses-preop\"][run][\"average_neighbor_degree\"].values()))\n",
    "            # average_degree_connectivity_preop.append(graph[\"ses-preop\"][run][\"average_degree_connectivity\"])\n",
    "            \n",
    "            global_efficiency_preop.append(graph[\"ses-preop\"][run][\"global_efficiency\"])\n",
    "            local_efficiency_preop.append(graph[\"ses-preop\"][run][\"local_efficiency\"])\n",
    "            ratio_preop.append(graph[\"ses-preop\"][run][\"ratio\"])\n",
    "    if len(graph[\"ses-postop\"]) > 0:\n",
    "        for run in graph[\"ses-postop\"]:\n",
    "            core_num_postop.append(graph[\"ses-postop\"][run][\"k_core\"])\n",
    "            \n",
    "            # degree_centrality_postop.append(list(graph[\"ses-postop\"][run][\"degree_centrality\"].values()))\n",
    "            # closeness_centrality_postop.append(list(graph[\"ses-postop\"][run][\"closeness_centrality\"].values()))\n",
    "            # betweenness_centrality_postop.append(list(graph[\"ses-postop\"][run][\"betweenness_centrality\"].values()))\n",
    "            # if \"eigenvector_centrality\" in graph[\"ses-postop\"][run]:\n",
    "            #     eigenvector_centrality_postop.append(list(graph[\"ses-postop\"][run][\"eigenvector_centrality\"].values()))\n",
    "            \n",
    "            # triangles_postop.append(list(graph[\"ses-postop\"][run][\"triangles\"].values()))\n",
    "            clustering_postop.append(list(graph[\"ses-postop\"][run][\"clustering\"].values()))\n",
    "            transitivity_postop.append(graph[\"ses-postop\"][run][\"transitivity\"])\n",
    "            \n",
    "            degree_assortativity_coefficient_postop.append(graph[\"ses-postop\"][run][\"degree_assortativity_coefficient\"])\n",
    "            # average_neighbor_degree_postop.append(list(graph[\"ses-postop\"][run][\"average_neighbor_degree\"].values()))\n",
    "            # average_degree_connectivity_postop.append(list(graph[\"ses-postop\"][run][\"average_degree_connectivity\"].values()))\n",
    "            \n",
    "            global_efficiency_postop.append(graph[\"ses-postop\"][run][\"global_efficiency\"])\n",
    "            local_efficiency_postop.append(graph[\"ses-postop\"][run][\"local_efficiency\"])\n",
    "            ratio_postop.append(graph[\"ses-postop\"][run][\"ratio\"])"
   ]
  },
  {
   "cell_type": "code",
   "execution_count": 26,
   "metadata": {},
   "outputs": [],
   "source": [
    "# k core最大值\n",
    "core_num_preop = np.array(core_num_preop)\n",
    "core_num_postop = np.array(core_num_postop)\n",
    "\n",
    "# 中心性，非单个数值，每个节点对应一个\n",
    "# degree_centrality_preop = np.array(degree_centrality_preop)\n",
    "# degree_centrality_postop = np.array(degree_centrality_postop)\n",
    "# closeness_centrality_preop = np.array(closeness_centrality_preop)\n",
    "# closeness_centrality_postop = np.array(closeness_centrality_postop)\n",
    "# betweenness_centrality_preop = np.array(betweenness_centrality_preop)\n",
    "# betweenness_centrality_postop = np.array(betweenness_centrality_postop)\n",
    "# eigenvector_centrality_preop = np.array(eigenvector_centrality_preop)\n",
    "# eigenvector_centrality_postop = np.array(eigenvector_centrality_postop)\n",
    "\n",
    "# 三角形数，与聚类系数相关\n",
    "# triangles_preop = np.array(triangles_preop)\n",
    "# triangles_postop = np.array(triangles_postop)\n",
    "# 聚类系数，每节点对应一个值，可取整体平均值\n",
    "clustering_preop = np.array(clustering_preop)\n",
    "clustering_postop = np.array(clustering_postop)\n",
    "# 转移效率，单个值\n",
    "transitivity_preop = np.array(transitivity_preop)\n",
    "transitivity_postop = np.array(transitivity_postop)\n",
    "\n",
    "# 网络关联性\n",
    "degree_assortativity_coefficient_preop = np.array(degree_assortativity_coefficient_preop)\n",
    "degree_assortativity_coefficient_postop = np.array(degree_assortativity_coefficient_postop)\n",
    "# average_neighbor_degree_preop = np.array(average_neighbor_degree_preop)\n",
    "# average_neighbor_degree_postop = np.array(average_neighbor_degree_postop)\n",
    "# average_degree_connectivity_preop = np.array(average_degree_connectivity_preop)\n",
    "# average_degree_connectivity_postop = np.array(average_degree_connectivity_postop)\n",
    "\n",
    "# 全局与局部效率\n",
    "global_efficiency_preop = np.array(global_efficiency_preop)\n",
    "global_efficiency_postop = np.array(global_efficiency_postop)\n",
    "local_efficiency_preop = np.array(local_efficiency_preop)\n",
    "local_efficiency_postop = np.array(local_efficiency_postop)\n",
    "ratio_preop = np.array(ratio_preop)\n",
    "ratio_postop = np.array(ratio_postop)"
   ]
  },
  {
   "cell_type": "code",
   "execution_count": 8,
   "metadata": {},
   "outputs": [],
   "source": [
    "runs = {}\n",
    "for sub in graphs:\n",
    "    if len(graphs[sub][\"ses-preop\"].keys()) == 0:\n",
    "           print(sub)\n",
    "    else:\n",
    "        runs[sub] = [len(graphs[sub][\"ses-preop\"].keys()), len(graphs[sub][\"ses-postop\"].keys())]"
   ]
  },
  {
   "cell_type": "code",
   "execution_count": 37,
   "metadata": {},
   "outputs": [],
   "source": [
    "Cpre =clustering_preop.sum(axis=1)/116\n",
    "Cpost = clustering_postop.sum(axis=1)/116"
   ]
  },
  {
   "cell_type": "code",
   "execution_count": 38,
   "metadata": {},
   "outputs": [
    {
     "name": "stdout",
     "output_type": "stream",
     "text": [
      "正态性检验preop:  0.09151604771614075\n",
      "正态性检验postop:  0.030246388167142868\n",
      "方差齐性检验:  0.912211021573947\n",
      "非参数检验: \n",
      "Wilcoxon秩和检验:  -2.0039520624506926 0.04507519577097762\n",
      "曼-惠特尼U检验:  3667.0 0.045216996456419176\n",
      "ks检验:  0.15254237288135594 0.20726690686401517\n",
      "kruskal检验 4.015823868600364 0.04507519577097825\n"
     ]
    },
    {
     "data": {
      "text/plain": [
       "array([-1.        , -1.        ,  0.0450752 ,  0.045217  ,  0.20726691,\n",
       "        0.0450752 ])"
      ]
     },
     "execution_count": 38,
     "metadata": {},
     "output_type": "execute_result"
    }
   ],
   "source": [
    "stats_tests(Cpre, Cpost)"
   ]
  },
  {
   "cell_type": "code",
   "execution_count": 13,
   "metadata": {},
   "outputs": [
    {
     "name": "stdout",
     "output_type": "stream",
     "text": [
      "sub-292电刺激后聚类系数降低: 左内侧颞叶、左额叶\n",
      "sub-294电刺激后聚类系数增加: 右前额叶\n",
      "sub-302电刺激后聚类系数增加: 左内侧颞叶\n",
      "sub-303电刺激后聚类系数增加: 右内侧颞叶，左内侧颞叶脑软化\n",
      "sub-307电刺激后聚类系数增加: 左侧脑岛\n",
      "sub-314电刺激后聚类系数降低: 双侧内侧颞叶\n",
      "sub-316电刺激后聚类系数增加: 右内侧颞叶\n",
      "sub-320电刺激后聚类系数增加: 右侧海马体\n",
      "sub-330电刺激后聚类系数增加: 左枕叶\n",
      "sub-331电刺激后聚类系数增加: 左内侧颞叶\n",
      "sub-334电刺激后聚类系数增加: 右颞极，左颞基底\n",
      "sub-335电刺激后聚类系数降低: 双侧内侧颞叶\n",
      "sub-352电刺激后聚类系数增加: 左额囊性瘤\n",
      "sub-372电刺激后聚类系数降低: 左颞极\n",
      "sub-376电刺激后聚类系数增加: 右内侧颞叶\n",
      "sub-384电刺激后聚类系数降低: 右内侧颞叶，右额叶\n",
      "sub-399电刺激后聚类系数增加: 右内侧颞叶，可能是右额基\n",
      "sub-400电刺激后聚类系数降低: 左内侧颞叶\n",
      "sub-405电刺激后聚类系数增加: 左额脑软化症\n",
      "sub-413电刺激后聚类系数降低: 右内侧颞叶\n",
      "7 13\n"
     ]
    },
    {
     "name": "stderr",
     "output_type": "stream",
     "text": [
      "c:\\Users\\fjj\\anaconda3\\lib\\site-packages\\statsmodels\\stats\\nonparametric.py:473: RuntimeWarning: invalid value encountered in double_scalars\n",
      "  S1 /= nobs1 - 1\n",
      "c:\\Users\\fjj\\anaconda3\\lib\\site-packages\\statsmodels\\stats\\nonparametric.py:478: RuntimeWarning: divide by zero encountered in double_scalars\n",
      "  wbfn /= (nobs1 + nobs2) * np.sqrt(nobs1 * S1 + nobs2 * S2)\n",
      "c:\\Users\\fjj\\anaconda3\\lib\\site-packages\\statsmodels\\stats\\nonparametric.py:485: RuntimeWarning: invalid value encountered in double_scalars\n",
      "  df = df_numer / df_denom\n"
     ]
    }
   ],
   "source": [
    "lastpre = 0\n",
    "lastpost = 0\n",
    "cnt_change = 0\n",
    "cnt2 = 0\n",
    "for sub, val in runs.items():\n",
    "    pre, post = val\n",
    "    # print(lastpre+pre, lastpost+post)\n",
    "    if nonparametric.rank_compare_2indep(Cpre[lastpre:lastpre+pre], Cpost[lastpost:lastpost+post])[0] > 0:\n",
    "        cnt_change += 1\n",
    "        print(f\"{sub}电刺激后聚类系数降低: {dataset[sub]['soz']}\")\n",
    "    else:\n",
    "        cnt2 += 1\n",
    "        print(f\"{sub}电刺激后聚类系数增加: {dataset[sub]['soz']}\")\n",
    "    lastpre += pre\n",
    "    lastpost += post\n",
    "print(cnt_change, cnt2)"
   ]
  },
  {
   "cell_type": "code",
   "execution_count": 14,
   "metadata": {},
   "outputs": [
    {
     "data": {
      "text/plain": [
       "<class 'statsmodels.stats.nonparametric.RankCompareResult'>\n",
       "statistic = -2.027474587551461\n",
       "pvalue = 0.044351367793845825\n",
       "s1 = 1175.583063063063\n",
       "s2 = 437.3360133275387\n",
       "var1 = 0.08442854517832972\n",
       "var2 = 0.07774862459156244\n",
       "var = 0.3444279128648754\n",
       "var_prob = 0.0017846005847921005\n",
       "nobs1 = 75\n",
       "nobs2 = 118\n",
       "nobs = 193\n",
       "mean1 = 86.89333333333333\n",
       "mean2 = 103.42372881355932\n",
       "prob1 = 0.4143502824858757\n",
       "prob2 = 0.5856497175141243\n",
       "somersd1 = -0.17129943502824863\n",
       "somersd2 = 0.17129943502824863\n",
       "df = 152.85606948799494\n",
       "use_t = True\n",
       "tuple = (-2.027474587551461, 0.044351367793845825)"
      ]
     },
     "execution_count": 14,
     "metadata": {},
     "output_type": "execute_result"
    }
   ],
   "source": [
    "nonparametric.rank_compare_2indep(Cpre, Cpost)"
   ]
  },
  {
   "cell_type": "code",
   "execution_count": 30,
   "metadata": {},
   "outputs": [
    {
     "name": "stdout",
     "output_type": "stream",
     "text": [
      "正态性检验preop:  0.20869816839694977\n",
      "正态性检验postop:  0.16136741638183594\n",
      "方差齐性检验:  0.5775167103999672\n",
      "t检验:  -1.8255820743419626 0.06947495169589021\n",
      "ANOVA检验:  3.3327499101587237 0.06947495169588921\n",
      "非参数检验: \n",
      "Wilcoxon秩和检验:  -1.5148608598736764 0.12980764416117632\n",
      "曼-惠特尼U检验:  3852.0 0.13014280458275027\n",
      "ks检验:  0.1392090395480226 0.2991995414934301\n",
      "kruskal检验 2.2948034247771147 0.12980764416118593\n"
     ]
    },
    {
     "data": {
      "text/plain": [
       "array([0.06947495, 0.06947495, 0.12980764, 0.1301428 , 0.29919954,\n",
       "       0.12980764])"
      ]
     },
     "execution_count": 30,
     "metadata": {},
     "output_type": "execute_result"
    }
   ],
   "source": [
    "stats_tests(global_efficiency_preop, global_efficiency_postop)"
   ]
  },
  {
   "cell_type": "code",
   "execution_count": 16,
   "metadata": {},
   "outputs": [
    {
     "name": "stdout",
     "output_type": "stream",
     "text": [
      "正态性检验preop:  0.005230378359556198\n",
      "正态性检验postop:  0.161850243806839\n",
      "方差齐性检验:  0.39641565682644664\n",
      "非参数检验: \n",
      "Wilcoxon秩和检验:  -1.8585465697926606 0.06309143654040247\n",
      "曼-惠特尼U检验:  3722.0 0.06327919203615855\n",
      "ks检验:  0.14451977401129942 0.26185498589507383\n",
      "kruskal检验 3.4541953520880497 0.06309143654040299\n"
     ]
    },
    {
     "data": {
      "text/plain": [
       "array([-1.        , -1.        ,  0.06309144,  0.06327919,  0.26185499,\n",
       "        0.06309144])"
      ]
     },
     "execution_count": 16,
     "metadata": {},
     "output_type": "execute_result"
    }
   ],
   "source": [
    "stats_tests(local_efficiency_preop, local_efficiency_postop)"
   ]
  },
  {
   "cell_type": "code",
   "execution_count": 17,
   "metadata": {},
   "outputs": [
    {
     "name": "stdout",
     "output_type": "stream",
     "text": [
      "正态性检验preop:  0.015562633983790874\n",
      "正态性检验postop:  0.00028129422571510077\n",
      "方差齐性检验:  0.26232257718487934\n",
      "非参数检验: \n",
      "Wilcoxon秩和检验:  1.2108311934068827 0.22596010746852468\n",
      "曼-惠特尼U检验:  4883.0 0.22646723063532503\n",
      "ks检验:  0.15615819209039547 0.18642232844704254\n",
      "kruskal检验 1.4661121789271192 0.22596010746852374\n"
     ]
    },
    {
     "data": {
      "text/plain": [
       "array([-1.        , -1.        ,  0.22596011,  0.22646723,  0.18642233,\n",
       "        0.22596011])"
      ]
     },
     "execution_count": 17,
     "metadata": {},
     "output_type": "execute_result"
    }
   ],
   "source": [
    "stats_tests(ratio_preop, ratio_postop)"
   ]
  },
  {
   "cell_type": "code",
   "execution_count": 18,
   "metadata": {},
   "outputs": [
    {
     "name": "stdout",
     "output_type": "stream",
     "text": [
      "正态性检验preop:  0.011922935023903847\n",
      "正态性检验postop:  0.00012727353896480054\n",
      "方差齐性检验:  0.13855632959172676\n",
      "非参数检验: \n",
      "Wilcoxon秩和检验:  -1.5082515192983115 0.13149016609003328\n",
      "曼-惠特尼U检验:  3854.5 0.13174259784490489\n",
      "ks检验:  0.15254237288135594 0.20726690686401517\n",
      "kruskal检验 2.275836961722744 0.13140416980377903\n"
     ]
    },
    {
     "data": {
      "text/plain": [
       "array([-1.        , -1.        ,  0.13149017,  0.1317426 ,  0.20726691,\n",
       "        0.13140417])"
      ]
     },
     "execution_count": 18,
     "metadata": {},
     "output_type": "execute_result"
    }
   ],
   "source": [
    "stats_tests(core_num_preop, core_num_postop)"
   ]
  },
  {
   "cell_type": "code",
   "execution_count": 19,
   "metadata": {},
   "outputs": [
    {
     "name": "stdout",
     "output_type": "stream",
     "text": [
      "正态性检验preop:  0.08317859470844269\n",
      "正态性检验postop:  0.02004168927669525\n",
      "方差齐性检验:  0.5523067366554262\n",
      "非参数检验: \n",
      "Wilcoxon秩和检验:  -1.8453278886419304 0.06498985595665809\n",
      "曼-惠特尼U检验:  3727.0 0.06518226277758184\n",
      "ks检验:  0.14282485875706213 0.27172657339153816\n",
      "kruskal检验 3.405235016599704 0.06498985595665759\n"
     ]
    },
    {
     "data": {
      "text/plain": [
       "array([-1.        , -1.        ,  0.06498986,  0.06518226,  0.27172657,\n",
       "        0.06498986])"
      ]
     },
     "execution_count": 19,
     "metadata": {},
     "output_type": "execute_result"
    }
   ],
   "source": [
    "stats_tests(transitivity_preop, transitivity_postop)"
   ]
  },
  {
   "cell_type": "code",
   "execution_count": 34,
   "metadata": {},
   "outputs": [
    {
     "name": "stdout",
     "output_type": "stream",
     "text": [
      "正态性检验preop:  0.3088219165802002\n",
      "正态性检验postop:  0.1359705775976181\n",
      "方差齐性检验:  0.2952096763872304\n",
      "t检验:  0.9989193632019863 0.31909759138503113\n",
      "ANOVA检验:  0.997839894179864 0.31909759138503\n",
      "非参数检验: \n",
      "Wilcoxon秩和检验:  0.9676074602334478 0.33324045003874814\n",
      "曼-惠特尼U检验:  4791.0 0.33390129357496756\n",
      "ks检验:  0.156045197740113 0.1869527217840551\n",
      "kruskal检验 0.9362641970993764 0.33324045003875746\n"
     ]
    },
    {
     "data": {
      "text/plain": [
       "array([0.31909759, 0.31909759, 0.33324045, 0.33390129, 0.18695272,\n",
       "       0.33324045])"
      ]
     },
     "execution_count": 34,
     "metadata": {},
     "output_type": "execute_result"
    }
   ],
   "source": [
    "stats_tests(degree_assortativity_coefficient_preop, degree_assortativity_coefficient_postop)"
   ]
  }
 ],
 "metadata": {
  "kernelspec": {
   "display_name": "base",
   "language": "python",
   "name": "python3"
  },
  "language_info": {
   "codemirror_mode": {
    "name": "ipython",
    "version": 3
   },
   "file_extension": ".py",
   "mimetype": "text/x-python",
   "name": "python",
   "nbconvert_exporter": "python",
   "pygments_lexer": "ipython3",
   "version": "3.9.12"
  },
  "orig_nbformat": 4
 },
 "nbformat": 4,
 "nbformat_minor": 2
}

{
 "cells": [
  {
   "cell_type": "code",
   "execution_count": 7,
   "metadata": {},
   "outputs": [],
   "source": [
    "import pickle\n",
    "import numpy as np\n",
    "import networkx as nx\n",
    "import matplotlib as mpl\n",
    "import matplotlib.pyplot as plt\n",
    "from scipy import stats\n",
    "from nilearn import datasets\n",
    "import glob\n",
    "import json\n",
    "from graph import cal_graph\n",
    "from statsmodels.stats import nonparametric"
   ]
  },
  {
   "cell_type": "code",
   "execution_count": 2,
   "metadata": {},
   "outputs": [],
   "source": [
    "atlas_labels = datasets.fetch_atlas_aal()[\"labels\"]"
   ]
  },
  {
   "cell_type": "code",
   "execution_count": 8,
   "metadata": {},
   "outputs": [],
   "source": [
    "with open(\"datasets.json\", \"r\") as f:\n",
    "    datasets = json.load(f)"
   ]
  },
  {
   "cell_type": "code",
   "execution_count": 13,
   "metadata": {},
   "outputs": [],
   "source": [
    "# 参数检验\n",
    "def stats_tests(preop, postop):\n",
    "    # 正态性检验\n",
    "    norm_stat1, p_value_norm1 = stats.shapiro(preop)\n",
    "    print(\"正态性检验preop: \", p_value_norm1)\n",
    "    norm_stat2, p_value_norm2 = stats.shapiro(postop)\n",
    "    print(\"正态性检验postop: \", p_value_norm2)\n",
    "    l_stat, p_value_l = stats.levene(preop, postop)\n",
    "    print(\"方差齐性检验: \", p_value_l)\n",
    "    # student T 检验\n",
    "    t_stat, p_value = stats.ttest_ind(preop, postop)\n",
    "    print(\"t检验: \", t_stat, p_value)\n",
    "    # ANOVA\n",
    "    f_stat, p_value_f = stats.f_oneway(preop, postop)\n",
    "    print(\"ANOVA检验: \", f_stat, p_value_f)\n",
    "    # 非参数检验\n",
    "    # 不要求正态分布\n",
    "    print(\"非参数检验: \")\n",
    "    # Wilcoxon秩和检验\n",
    "    rs_stat, p_value_rs = stats.ranksums(preop, postop)\n",
    "    print(\"Wilcoxon秩和检验: \", rs_stat, p_value_rs)\n",
    "    # 曼-惠特尼U检验\n",
    "    mw_stat, p_value_m = stats.mannwhitneyu(preop, postop)\n",
    "    print(\"曼-惠特尼U检验: \", mw_stat, p_value_m)\n",
    "    # ks检验\n",
    "    ks_stat, p_value_ks = stats.ks_2samp(preop, postop)\n",
    "    print(\"ks检验: \", ks_stat, p_value_ks)\n",
    "    # kruskal 原假设是各样本服从的概率分布具有相同的中位数，原假设被拒绝意味着至少一个样本的概率分布的中位数不同于其他样本\n",
    "    k_stat, p_value_k = stats.kruskal(preop, postop)\n",
    "    print(\"kruskal检验\", k_stat, p_value_k)\n",
    "    # Dunnett's t 检验\n",
    "    # SNK q检验"
   ]
  },
  {
   "cell_type": "code",
   "execution_count": 3,
   "metadata": {},
   "outputs": [],
   "source": [
    "with open(\"time_series2.pkl\", \"rb\") as f:\n",
    "    time_series = pickle.load(f)"
   ]
  },
  {
   "cell_type": "code",
   "execution_count": 22,
   "metadata": {},
   "outputs": [
    {
     "name": "stdout",
     "output_type": "stream",
     "text": [
      "Frontal_Med_Orb_R 存在明显差异\n",
      "Rectus_L 存在明显差异\n",
      "Vermis_6 存在明显差异\n",
      "3 113\n"
     ]
    }
   ],
   "source": [
    "cnt1 = 0\n",
    "cnt2 = 0\n",
    "for i in range(116):\n",
    "    ts_preop = []\n",
    "    ts_postop = []\n",
    "    for sub in time_series:\n",
    "        for run in time_series[sub][\"ses-preop\"]:\n",
    "            ts_preop.append(time_series[sub][\"ses-preop\"][run][\"time_series\"].T[i])\n",
    "    for sub in time_series:\n",
    "        for run in time_series[sub][\"ses-postop\"]:\n",
    "            ts_postop.append(time_series[sub][\"ses-postop\"][run][\"time_series\"].T[i])\n",
    "    # time_series[\"sub-292\"][\"ses-preop\"][\"run-02\"][\"time_series\"].T[i]\n",
    "    # time_series[\"sub-292\"][\"ses-postop\"][\"run-01\"][\"time_series\"].T[i]\n",
    "    ts_preop = np.hstack(ts_preop)\n",
    "    ts_postop = np.hstack(ts_postop)\n",
    "\n",
    "    # Wilcoxon秩和检验\n",
    "    rs_stat, p_value_rs = stats.ranksums(ts_preop, ts_postop)\n",
    "    # print(\"Wilcoxon秩和检验: \", rs_stat, p_value_rs)\n",
    "    # 曼-惠特尼U检验\n",
    "    mw_stat, p_value_m = stats.mannwhitneyu(ts_preop, ts_postop)\n",
    "    # print(\"曼-惠特尼U检验: \", mw_stat, p_value_m)\n",
    "    if p_value_rs < 0.01 and p_value_m < 0.01:\n",
    "        print(atlas_labels[i], \"存在明显差异\")\n",
    "        cnt1 += 1\n",
    "    elif p_value_rs >= 0.01 and p_value_m >= 0.01:\n",
    "        # print(atlas_labels[i], \"不存在明显差异\")\n",
    "        cnt2 += 1\n",
    "    else:\n",
    "        print(atlas_labels[i], \"无法确定\")\n",
    "print(cnt1, cnt2)"
   ]
  },
  {
   "cell_type": "code",
   "execution_count": 20,
   "metadata": {},
   "outputs": [],
   "source": [
    "with open(\"FCs.pkl\", \"rb\") as f:\n",
    "    FCs = pickle.load(f)"
   ]
  },
  {
   "cell_type": "code",
   "execution_count": 22,
   "metadata": {},
   "outputs": [],
   "source": [
    "graphs = {}\n",
    "threshold = 50\n",
    "for subid in FCs:\n",
    "    if len(FCs[subid][\"ses-preop\"]) == 0:\n",
    "        continue\n",
    "    graphs[subid] = {\n",
    "        \"ses-preop\":{},\n",
    "        \"ses-postop\":{}\n",
    "    }\n",
    "    for run, fc in FCs[subid][\"ses-preop\"].items():\n",
    "        graphs[subid][\"ses-preop\"][run] = cal_graph(fc, threshold)\n",
    "    for run, fc in FCs[subid][\"ses-postop\"].items():\n",
    "        graphs[subid][\"ses-postop\"][run] = cal_graph(fc, threshold)\n",
    "with open(\"graph_theory/graphs_static.pkl\", \"wb\") as f:\n",
    "    pickle.dump(graphs, f)"
   ]
  },
  {
   "cell_type": "code",
   "execution_count": 3,
   "metadata": {},
   "outputs": [],
   "source": [
    "with open(\"graph_theory/graphs.pkl\", \"rb\") as f:\n",
    "    graphs = pickle.load(f)"
   ]
  },
  {
   "cell_type": "code",
   "execution_count": 4,
   "metadata": {},
   "outputs": [],
   "source": [
    "core_num_preop = []\n",
    "core_num_postop = []\n",
    "\n",
    "degree_centrality_preop = []\n",
    "degree_centrality_postop = []\n",
    "closeness_centrality_preop = []\n",
    "closeness_centrality_postop = []\n",
    "betweenness_centrality_preop = []\n",
    "betweenness_centrality_postop = []\n",
    "eigenvector_centrality_preop = []\n",
    "eigenvector_centrality_postop = []\n",
    "\n",
    "triangles_preop = []\n",
    "triangles_postop = []\n",
    "clustering_preop = []\n",
    "clustering_postop = []\n",
    "transitivity_preop = []\n",
    "transitivity_postop = []\n",
    "\n",
    "degree_assortativity_coefficient_preop = []\n",
    "degree_assortativity_coefficient_postop = []\n",
    "average_neighbor_degree_preop = []\n",
    "average_neighbor_degree_postop = []\n",
    "# average_degree_connectivity_preop = []\n",
    "# average_degree_connectivity_postop = []\n",
    "\n",
    "global_efficiency_preop = []\n",
    "global_efficiency_postop = []\n",
    "local_efficiency_preop = []\n",
    "local_efficiency_postop = []\n",
    "ratio_preop = []\n",
    "ratio_postop = []\n",
    "\n",
    "for subid, graph in graphs.items():\n",
    "    for run in graph[\"ses-preop\"]:\n",
    "        core_num_preop.append(max(nx.core_number(graph[\"ses-preop\"][run][\"main_core\"]).values()))\n",
    "        \n",
    "        degree_centrality_preop.append(list(graph[\"ses-preop\"][run][\"degree_centrality\"].values()))\n",
    "        closeness_centrality_preop.append(list(graph[\"ses-preop\"][run][\"closeness_centrality\"].values()))\n",
    "        betweenness_centrality_preop.append(list(graph[\"ses-preop\"][run][\"betweenness_centrality\"].values()))\n",
    "        if \"eigenvector_centrality\" in graph[\"ses-preop\"][run]:\n",
    "            eigenvector_centrality_preop.append(list(graph[\"ses-preop\"][run][\"eigenvector_centrality\"].values()))\n",
    "        \n",
    "        triangles_preop.append(list(graph[\"ses-preop\"][run][\"triangles\"].values()))\n",
    "        clustering_preop.append(list(graph[\"ses-preop\"][run][\"clustering\"].values()))\n",
    "        transitivity_preop.append(graph[\"ses-preop\"][run][\"transitivity\"])\n",
    "        \n",
    "        degree_assortativity_coefficient_preop.append(graph[\"ses-preop\"][run][\"degree_assortativity_coefficient\"])\n",
    "        average_neighbor_degree_preop.append(list(graph[\"ses-preop\"][run][\"average_neighbor_degree\"].values()))\n",
    "        # average_degree_connectivity_preop.append(graph[\"ses-preop\"][run][\"average_degree_connectivity\"])\n",
    "        \n",
    "        global_efficiency_preop.append(graph[\"ses-preop\"][run][\"global_efficiency\"])\n",
    "        local_efficiency_preop.append(graph[\"ses-preop\"][run][\"local_efficiency\"])\n",
    "        ratio_preop.append(graph[\"ses-preop\"][run][\"ratio\"])\n",
    "    for run in graph[\"ses-postop\"]:\n",
    "        core_num_postop.append(max(nx.core_number(graph[\"ses-postop\"][run][\"main_core\"]).values()))\n",
    "        \n",
    "        degree_centrality_postop.append(list(graph[\"ses-postop\"][run][\"degree_centrality\"].values()))\n",
    "        closeness_centrality_postop.append(list(graph[\"ses-postop\"][run][\"closeness_centrality\"].values()))\n",
    "        betweenness_centrality_postop.append(list(graph[\"ses-postop\"][run][\"betweenness_centrality\"].values()))\n",
    "        if \"eigenvector_centrality\" in graph[\"ses-postop\"][run]:\n",
    "            eigenvector_centrality_postop.append(list(graph[\"ses-postop\"][run][\"eigenvector_centrality\"].values()))\n",
    "        \n",
    "        triangles_postop.append(list(graph[\"ses-postop\"][run][\"triangles\"].values()))\n",
    "        clustering_postop.append(list(graph[\"ses-postop\"][run][\"clustering\"].values()))\n",
    "        transitivity_postop.append(graph[\"ses-postop\"][run][\"transitivity\"])\n",
    "        \n",
    "        degree_assortativity_coefficient_postop.append(graph[\"ses-postop\"][run][\"degree_assortativity_coefficient\"])\n",
    "        average_neighbor_degree_postop.append(list(graph[\"ses-postop\"][run][\"average_neighbor_degree\"].values()))\n",
    "        # average_degree_connectivity_postop.append(list(graph[\"ses-postop\"][run][\"average_degree_connectivity\"].values()))\n",
    "        \n",
    "        global_efficiency_postop.append(graph[\"ses-postop\"][run][\"global_efficiency\"])\n",
    "        local_efficiency_postop.append(graph[\"ses-postop\"][run][\"local_efficiency\"])\n",
    "        ratio_postop.append(graph[\"ses-postop\"][run][\"ratio\"])"
   ]
  },
  {
   "cell_type": "code",
   "execution_count": 5,
   "metadata": {},
   "outputs": [],
   "source": [
    "# k core最大值\n",
    "core_num_preop = np.array(core_num_preop)\n",
    "core_num_postop = np.array(core_num_postop)\n",
    "\n",
    "# 中心性，非单个数值，每个节点对应一个\n",
    "degree_centrality_preop = np.array(degree_centrality_preop)\n",
    "degree_centrality_postop = np.array(degree_centrality_postop)\n",
    "closeness_centrality_preop = np.array(closeness_centrality_preop)\n",
    "closeness_centrality_postop = np.array(closeness_centrality_postop)\n",
    "betweenness_centrality_preop = np.array(betweenness_centrality_preop)\n",
    "betweenness_centrality_postop = np.array(betweenness_centrality_postop)\n",
    "eigenvector_centrality_preop = np.array(eigenvector_centrality_preop)\n",
    "eigenvector_centrality_postop = np.array(eigenvector_centrality_postop)\n",
    "\n",
    "# 三角形数，与聚类系数相关\n",
    "triangles_preop = np.array(triangles_preop)\n",
    "triangles_postop = np.array(triangles_postop)\n",
    "# 聚类系数，每节点对应一个值，可取整体平均值\n",
    "clustering_preop = np.array(clustering_preop)\n",
    "clustering_postop = np.array(clustering_postop)\n",
    "# 转移效率，单个值\n",
    "transitivity_preop = np.array(transitivity_preop)\n",
    "transitivity_postop = np.array(transitivity_postop)\n",
    "\n",
    "# 网络关联性\n",
    "degree_assortativity_coefficient_preop = np.array(degree_assortativity_coefficient_preop)\n",
    "degree_assortativity_coefficient_postop = np.array(degree_assortativity_coefficient_postop)\n",
    "average_neighbor_degree_preop = np.array(average_neighbor_degree_preop)\n",
    "average_neighbor_degree_postop = np.array(average_neighbor_degree_postop)\n",
    "# average_degree_connectivity_preop = np.array(average_degree_connectivity_preop)\n",
    "# average_degree_connectivity_postop = np.array(average_degree_connectivity_postop)\n",
    "\n",
    "# 全局与局部效率\n",
    "global_efficiency_preop = np.array(global_efficiency_preop)\n",
    "global_efficiency_postop = np.array(global_efficiency_postop)\n",
    "local_efficiency_preop = np.array(local_efficiency_preop)\n",
    "local_efficiency_postop = np.array(local_efficiency_postop)\n",
    "ratio_preop = np.array(ratio_preop)\n",
    "ratio_postop = np.array(ratio_postop)"
   ]
  },
  {
   "cell_type": "code",
   "execution_count": 9,
   "metadata": {},
   "outputs": [
    {
     "name": "stdout",
     "output_type": "stream",
     "text": [
      "sub-339\n",
      "sub-357\n",
      "sub-369\n",
      "sub-394\n",
      "sub-395\n",
      "sub-403\n"
     ]
    }
   ],
   "source": [
    "runs = {}\n",
    "for sub in graphs:\n",
    "    if len(graphs[sub][\"ses-preop\"].keys()) == 0:\n",
    "           print(sub)\n",
    "    else:\n",
    "        runs[sub] = [len(graphs[sub][\"ses-preop\"].keys()), len(graphs[sub][\"ses-postop\"].keys())]"
   ]
  },
  {
   "cell_type": "code",
   "execution_count": 11,
   "metadata": {},
   "outputs": [],
   "source": [
    "Cpre =clustering_preop.sum(axis=1)/116\n",
    "Cpost = clustering_postop.sum(axis=1)/116"
   ]
  },
  {
   "cell_type": "code",
   "execution_count": 12,
   "metadata": {},
   "outputs": [
    {
     "name": "stdout",
     "output_type": "stream",
     "text": [
      "sub-292电刺激后聚类系数降低: 左内侧颞叶、左额叶\n",
      "sub-294电刺激后聚类系数增加: 右前额叶\n",
      "sub-302电刺激后聚类系数增加: 左内侧颞叶\n",
      "sub-303电刺激后聚类系数增加: 右内侧颞叶，左内侧颞叶脑软化\n",
      "sub-307电刺激后聚类系数增加: 左侧脑岛\n",
      "sub-314电刺激后聚类系数降低: 双侧内侧颞叶\n",
      "sub-316电刺激后聚类系数增加: 右内侧颞叶\n",
      "sub-320电刺激后聚类系数增加: 右侧海马体\n",
      "sub-330电刺激后聚类系数增加: 左枕叶\n",
      "sub-331电刺激后聚类系数增加: 左内侧颞叶\n",
      "sub-334电刺激后聚类系数增加: 右颞极，左颞基底\n",
      "sub-335电刺激后聚类系数降低: 双侧内侧颞叶\n",
      "sub-352电刺激后聚类系数增加: 左额囊性瘤\n",
      "sub-372电刺激后聚类系数降低: 左颞极\n",
      "sub-376电刺激后聚类系数增加: 右内侧颞叶\n",
      "sub-384电刺激后聚类系数增加: 右内侧颞叶，右额叶\n",
      "sub-399电刺激后聚类系数增加: 右内侧颞叶，可能是右额基\n",
      "sub-400电刺激后聚类系数增加: 左内侧颞叶\n",
      "sub-405电刺激后聚类系数降低: 左额脑软化症\n",
      "sub-413电刺激后聚类系数降低: 右内侧颞叶\n",
      "6 14\n"
     ]
    },
    {
     "name": "stderr",
     "output_type": "stream",
     "text": [
      "c:\\Users\\fjj\\anaconda3\\lib\\site-packages\\statsmodels\\stats\\nonparametric.py:473: RuntimeWarning: invalid value encountered in double_scalars\n",
      "  S1 /= nobs1 - 1\n",
      "c:\\Users\\fjj\\anaconda3\\lib\\site-packages\\statsmodels\\stats\\nonparametric.py:478: RuntimeWarning: divide by zero encountered in double_scalars\n",
      "  wbfn /= (nobs1 + nobs2) * np.sqrt(nobs1 * S1 + nobs2 * S2)\n",
      "c:\\Users\\fjj\\anaconda3\\lib\\site-packages\\statsmodels\\stats\\nonparametric.py:485: RuntimeWarning: invalid value encountered in double_scalars\n",
      "  df = df_numer / df_denom\n"
     ]
    }
   ],
   "source": [
    "lastpre = 0\n",
    "lastpost = 0\n",
    "cnt1 = 0\n",
    "cnt2 = 0\n",
    "for sub, val in runs.items():\n",
    "    pre, post = val\n",
    "    # print(lastpre+pre, lastpost+post)\n",
    "    if nonparametric.rank_compare_2indep(Cpre[lastpre:lastpre+pre], Cpost[lastpost:lastpost+post])[0] > 0:\n",
    "        cnt1 += 1\n",
    "        print(f\"{sub}电刺激后聚类系数降低: {datasets[sub]['soz']}\")\n",
    "    else:\n",
    "        cnt2 += 1\n",
    "        print(f\"{sub}电刺激后聚类系数增加: {datasets[sub]['soz']}\")\n",
    "    lastpre += pre\n",
    "    lastpost += post\n",
    "print(cnt1, cnt2)"
   ]
  },
  {
   "cell_type": "code",
   "execution_count": 33,
   "metadata": {},
   "outputs": [
    {
     "name": "stdout",
     "output_type": "stream",
     "text": [
      "0.708467793831942 0.7475613831096029\n"
     ]
    }
   ],
   "source": [
    "print(Cpre.sum()/Cpre.shape[0], Cpost.sum()/Cpost.shape[0])"
   ]
  },
  {
   "cell_type": "code",
   "execution_count": 14,
   "metadata": {},
   "outputs": [
    {
     "name": "stdout",
     "output_type": "stream",
     "text": [
      "正态性检验preop:  0.01409502699971199\n",
      "正态性检验postop:  0.1541590392589569\n",
      "方差齐性检验:  0.557807994536543\n",
      "-2.600465448680086 0.009902495762993478\n",
      "6.762420549778919 0.009902495762993516\n",
      "非参数检验: \n",
      "Wilcoxon秩和检验:  -2.2031185552528263 0.0275863937043405\n",
      "曼-惠特尼U检验:  4922.0 0.02765888241623276\n",
      "ks检验:  0.18051384718051386 0.06265342997121903\n",
      "kruskal检验 4.853731368499211 0.027586393704341922\n"
     ]
    }
   ],
   "source": [
    "stats_tests(Cpre, Cpost)"
   ]
  },
  {
   "cell_type": "code",
   "execution_count": 59,
   "metadata": {},
   "outputs": [
    {
     "data": {
      "text/plain": [
       "<class 'statsmodels.stats.nonparametric.RankCompareResult'>\n",
       "statistic = -2.231985150235751\n",
       "pvalue = 0.027222118950005723\n",
       "s1 = 2171.760088855979\n",
       "s2 = 431.90230810520677\n",
       "var1 = 0.08275263255814583\n",
       "var2 = 0.07887186050131606\n",
       "var = 0.37881354852836296\n",
       "var_prob = 0.001605142154781199\n",
       "nobs1 = 74\n",
       "nobs2 = 162\n",
       "nobs = 236\n",
       "mean1 = 104.01351351351352\n",
       "mean2 = 125.11728395061728\n",
       "prob1 = 0.41057724391057726\n",
       "prob2 = 0.5894227560894226\n",
       "somersd1 = -0.17884551217884548\n",
       "somersd2 = 0.17884551217884526\n",
       "df = 138.49771236236373\n",
       "use_t = True\n",
       "tuple = (-2.231985150235751, 0.027222118950005723)"
      ]
     },
     "execution_count": 59,
     "metadata": {},
     "output_type": "execute_result"
    }
   ],
   "source": [
    "nonparametric.rank_compare_2indep(Cpre, Cpost)"
   ]
  },
  {
   "cell_type": "code",
   "execution_count": 33,
   "metadata": {},
   "outputs": [
    {
     "name": "stdout",
     "output_type": "stream",
     "text": [
      "正态性检验preop:  0.08084501326084137\n",
      "正态性检验postop:  0.11492002755403519\n",
      "方差齐性检验:  0.7760637035969065\n",
      "-1.6185829265134002 0.10688406820378152\n",
      "2.6198106900006892 0.10688406820378263\n",
      "非参数检验: \n",
      "Wilcoxon秩和检验:  -1.360507913784861 0.17366925029686442\n",
      "曼-惠特尼U检验:  5332.0 0.17399442825298506\n",
      "ks检验:  0.1284617951284618 0.33555700589828075\n",
      "kruskal检验 1.8509817834712976 0.1736692502968533\n"
     ]
    }
   ],
   "source": [
    "stats_tests(global_efficiency_preop, global_efficiency_postop)"
   ]
  },
  {
   "cell_type": "code",
   "execution_count": 35,
   "metadata": {},
   "outputs": [
    {
     "name": "stdout",
     "output_type": "stream",
     "text": [
      "正态性检验preop:  4.257240561855724e-06\n",
      "正态性检验postop:  9.959038834495004e-06\n",
      "方差齐性检验:  0.26674605779545213\n",
      "-2.1157201110960333 0.03542552556972661\n",
      "4.476271588496191 0.03542552556972645\n",
      "非参数检验: \n",
      "Wilcoxon秩和检验:  -1.755096311740591 0.07924283510101604\n",
      "曼-惠特尼U检验:  5140.0 0.07941872966341001\n",
      "ks检验:  0.147313980647314 0.19552345490624023\n",
      "kruskal检验 3.0803630634854926 0.07924283510101274\n"
     ]
    }
   ],
   "source": [
    "stats_tests(local_efficiency_preop, local_efficiency_postop)"
   ]
  },
  {
   "cell_type": "code",
   "execution_count": 45,
   "metadata": {},
   "outputs": [
    {
     "name": "stdout",
     "output_type": "stream",
     "text": [
      "正态性检验preop:  0.000318704143865034\n",
      "正态性检验postop:  4.2852956539718434e-05\n",
      "方差齐性检验:  0.7515467737981812\n",
      "0.907853451859428 0.36488965301061715\n",
      "0.8241978900530632 0.3648896530106265\n",
      "非参数检验: \n",
      "Wilcoxon秩和检验:  0.850831233092043 0.39486310904949495\n",
      "曼-惠特尼U检验:  6408.0 0.3954342549377542\n",
      "ks检验:  0.1284617951284618 0.33555700589828075\n",
      "kruskal检验 0.7239137872049923 0.39486310904947364\n"
     ]
    }
   ],
   "source": [
    "stats_tests(ratio_preop, ratio_postop)"
   ]
  },
  {
   "cell_type": "code",
   "execution_count": 40,
   "metadata": {},
   "outputs": [
    {
     "name": "stdout",
     "output_type": "stream",
     "text": [
      "正态性检验preop:  0.02152283675968647\n",
      "正态性检验postop:  5.073248757980764e-06\n",
      "方差齐性检验:  0.1040737145494205\n",
      "-2.0948753888578295 0.03725770726675177\n",
      "4.388502894842248 0.03725770726675233\n",
      "非参数检验: \n",
      "Wilcoxon秩和检验:  -1.6420631769095226 0.1005769119221547\n",
      "曼-惠特尼U检验:  5195.0 0.10070901136050447\n",
      "ks检验:  0.16049382716049382 0.127845149055132\n",
      "kruskal检验 2.6976546260080756 0.10049598431113478\n"
     ]
    }
   ],
   "source": [
    "stats_tests(core_num_preop, core_num_postop)"
   ]
  },
  {
   "cell_type": "code",
   "execution_count": 41,
   "metadata": {},
   "outputs": [
    {
     "name": "stdout",
     "output_type": "stream",
     "text": [
      "正态性检验preop:  0.028943326324224472\n",
      "正态性检验postop:  0.03597412630915642\n",
      "方差齐性检验:  0.7919193607016528\n",
      "-2.424711813756636 0.016078984928837456\n",
      "5.879227379771024 0.01607898492883734\n",
      "非参数检验: \n",
      "Wilcoxon秩和检验:  -2.003769208368942 0.04509478869331483\n",
      "曼-惠特尼U检验:  5019.0 0.04520502745295591\n",
      "ks检验:  0.1558224891558225 0.1492862419558123\n",
      "kruskal检验 4.015091040407469 0.0450947886933157\n"
     ]
    }
   ],
   "source": [
    "stats_tests(transitivity_preop, transitivity_postop)"
   ]
  },
  {
   "cell_type": "code",
   "execution_count": 44,
   "metadata": {},
   "outputs": [
    {
     "name": "stdout",
     "output_type": "stream",
     "text": [
      "sub-292 增加 左内侧颞叶、左额叶\n",
      "sub-294 减小 右前额叶\n",
      "sub-302 减小 左内侧颞叶\n",
      "sub-303 增加 右内侧颞叶，左内侧颞叶脑软化\n",
      "sub-307 增加 左侧脑岛\n",
      "sub-314 减小 双侧内侧颞叶\n",
      "sub-316 增加 右内侧颞叶\n",
      "sub-320 增加 右侧海马体\n",
      "sub-330 增加 左枕叶\n",
      "sub-331 增加 左内侧颞叶\n",
      "sub-334 增加 右颞极，左颞基底\n",
      "sub-335 增加 双侧内侧颞叶\n",
      "sub-352 增加 左额囊性瘤\n",
      "sub-372 减小 左颞极\n",
      "sub-376 增加 右内侧颞叶\n",
      "sub-384 减小 右内侧颞叶，右额叶\n",
      "sub-399 增加 右内侧颞叶，可能是右额基\n",
      "sub-400 减小 左内侧颞叶\n",
      "sub-405 增加 左额脑软化症\n",
      "sub-413 减小 右内侧颞叶\n",
      "13 7\n"
     ]
    },
    {
     "name": "stderr",
     "output_type": "stream",
     "text": [
      "c:\\Users\\fjj\\anaconda3\\lib\\site-packages\\statsmodels\\stats\\nonparametric.py:473: RuntimeWarning: invalid value encountered in double_scalars\n",
      "  S1 /= nobs1 - 1\n"
     ]
    }
   ],
   "source": [
    "cnt1 = 0\n",
    "cnt2 = 0\n",
    "for sub in graphs:\n",
    "    if len(graphs[sub][\"ses-preop\"]) == 0:\n",
    "        continue\n",
    "    preop = []\n",
    "    for run, graph in graphs[sub][\"ses-preop\"].items():\n",
    "        preop.append(graph[\"transitivity\"])\n",
    "    postop= []\n",
    "    for run, graph in graphs[sub][\"ses-postop\"].items():\n",
    "        postop.append(graph[\"transitivity\"])\n",
    "    if nonparametric.rank_compare_2indep(preop, postop)[0] < 0:\n",
    "        cnt1 += 1\n",
    "        print(sub, '增加', datasets[sub][\"soz\"])\n",
    "    else:\n",
    "        cnt2 += 1\n",
    "        print(sub, '减小', datasets[sub][\"soz\"])\n",
    "print(cnt1, cnt2)"
   ]
  },
  {
   "cell_type": "code",
   "execution_count": 43,
   "metadata": {},
   "outputs": [
    {
     "data": {
      "text/plain": [
       "<class 'statsmodels.stats.nonparametric.RankCompareResult'>\n",
       "statistic = -2.061957634689352\n",
       "pvalue = 0.040915080723523886\n",
       "s1 = 1971.2700851536467\n",
       "s2 = 479.72015182884746\n",
       "var1 = 0.07511317196896992\n",
       "var2 = 0.08760411830329574\n",
       "var = 0.36717093032752873\n",
       "var_prob = 0.0015558090268115625\n",
       "nobs1 = 74\n",
       "nobs2 = 162\n",
       "nobs = 236\n",
       "mean1 = 105.32432432432432\n",
       "mean2 = 124.51851851851852\n",
       "prob1 = 0.41866866866866864\n",
       "prob2 = 0.5813313313313313\n",
       "somersd1 = -0.16266266266266272\n",
       "somersd2 = 0.1626626626626626\n",
       "df = 151.94685448111537\n",
       "use_t = True\n",
       "tuple = (-2.061957634689352, 0.040915080723523886)"
      ]
     },
     "execution_count": 43,
     "metadata": {},
     "output_type": "execute_result"
    }
   ],
   "source": [
    "nonparametric.rank_compare_2indep(transitivity_preop, transitivity_postop)"
   ]
  },
  {
   "cell_type": "code",
   "execution_count": 46,
   "metadata": {},
   "outputs": [
    {
     "name": "stdout",
     "output_type": "stream",
     "text": [
      "正态性检验preop:  0.2456342577934265\n",
      "正态性检验postop:  0.0007478159968741238\n",
      "方差齐性检验:  0.01419746254654127\n",
      "0.8700653784234633 0.385156315900146\n",
      "0.757013762731164 0.3851563159001494\n",
      "非参数检验: \n",
      "Wilcoxon秩和检验:  1.2474747789537926 0.21222346239551593\n",
      "曼-惠特尼U检验:  6601.0 0.21260026020587064\n",
      "ks检验:  0.17150483817150483 0.08726063817355101\n",
      "kruskal检验 1.556193324125843 0.212223462395508\n"
     ]
    }
   ],
   "source": [
    "stats_tests(degree_assortativity_coefficient_preop, degree_assortativity_coefficient_postop)"
   ]
  }
 ],
 "metadata": {
  "kernelspec": {
   "display_name": "base",
   "language": "python",
   "name": "python3"
  },
  "language_info": {
   "codemirror_mode": {
    "name": "ipython",
    "version": 3
   },
   "file_extension": ".py",
   "mimetype": "text/x-python",
   "name": "python",
   "nbconvert_exporter": "python",
   "pygments_lexer": "ipython3",
   "version": "3.9.12"
  },
  "orig_nbformat": 4
 },
 "nbformat": 4,
 "nbformat_minor": 2
}

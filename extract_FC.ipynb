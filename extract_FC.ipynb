{
 "cells": [
  {
   "cell_type": "code",
   "execution_count": 25,
   "metadata": {},
   "outputs": [],
   "source": [
    "from nilearn import connectome\n",
    "import pickle\n",
    "import numpy as np"
   ]
  },
  {
   "cell_type": "code",
   "execution_count": 26,
   "metadata": {},
   "outputs": [],
   "source": [
    "with open(\"silced_windows.pkl\", \"rb\") as f:\n",
    "    data = pickle.load(f)"
   ]
  },
  {
   "cell_type": "code",
   "execution_count": 27,
   "metadata": {},
   "outputs": [
    {
     "data": {
      "text/plain": [
       "(180, 116)"
      ]
     },
     "execution_count": 27,
     "metadata": {},
     "output_type": "execute_result"
    }
   ],
   "source": [
    "data[\"sub-292\"][\"ses-preop\"][\"run-01\"][\"time_series\"].shape"
   ]
  },
  {
   "cell_type": "code",
   "execution_count": 28,
   "metadata": {},
   "outputs": [],
   "source": [
    "FCs = {}\n",
    "for sub, ses in data.items():\n",
    "    FCs[sub] = {}\n",
    "    for op, runs in ses.items():\n",
    "        FCs[sub][op] = {}\n",
    "        for run, items in runs.items():\n",
    "            if len(items[\"sliced_time_series\"]) == 0:\n",
    "                print(sub, op, run, items[\"time_series\"].shape)\n",
    "                continue\n",
    "            FCs[sub][op][run] = {\n",
    "                \"entire\" : connectome.ConnectivityMeasure(kind=\"correlation\").fit_transform([items[\"time_series\"]])[0],\n",
    "                \"sliced\" : connectome.ConnectivityMeasure(kind=\"correlation\").fit_transform(items[\"sliced_time_series\"])\n",
    "            }"
   ]
  },
  {
   "cell_type": "code",
   "execution_count": null,
   "metadata": {},
   "outputs": [],
   "source": [
    "with open(\"FCs.pkl\", \"wb\") as f:\n",
    "    pickle.dump(FCs, f)"
   ]
  }
 ],
 "metadata": {
  "kernelspec": {
   "display_name": "Python 3.9.12 ('base')",
   "language": "python",
   "name": "python3"
  },
  "language_info": {
   "codemirror_mode": {
    "name": "ipython",
    "version": 3
   },
   "file_extension": ".py",
   "mimetype": "text/x-python",
   "name": "python",
   "nbconvert_exporter": "python",
   "pygments_lexer": "ipython3",
   "version": "3.9.12"
  },
  "orig_nbformat": 4,
  "vscode": {
   "interpreter": {
    "hash": "14da249aea668dd476485a6222a8c1fd2f2cd90c7005afa5442c69b6c853f2dc"
   }
  }
 },
 "nbformat": 4,
 "nbformat_minor": 2
}

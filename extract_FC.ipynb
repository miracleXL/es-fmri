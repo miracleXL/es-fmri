{
 "cells": [
  {
   "cell_type": "code",
   "execution_count": 1,
   "metadata": {},
   "outputs": [],
   "source": [
    "from nilearn import connectome, plotting\n",
    "import pickle\n",
    "import numpy as np\n",
    "import os\n",
    "import matplotlib as mpl\n",
    "import matplotlib.pyplot as plt"
   ]
  },
  {
   "cell_type": "code",
   "execution_count": 2,
   "metadata": {},
   "outputs": [],
   "source": [
    "# with open(\"silced_windows.pkl\", \"rb\") as f:\n",
    "with open(\"time_series.pkl\", \"rb\") as f:\n",
    "    data = pickle.load(f)"
   ]
  },
  {
   "cell_type": "code",
   "execution_count": 3,
   "metadata": {},
   "outputs": [
    {
     "data": {
      "text/plain": [
       "(180, 116)"
      ]
     },
     "execution_count": 3,
     "metadata": {},
     "output_type": "execute_result"
    }
   ],
   "source": [
    "data[\"sub-292\"][\"ses-preop\"][\"run-01\"][\"time_series\"].shape"
   ]
  },
  {
   "cell_type": "code",
   "execution_count": 4,
   "metadata": {},
   "outputs": [],
   "source": [
    "FCs = {}\n",
    "for sub, ses in data.items():\n",
    "    FCs[sub] = {}\n",
    "    for op, runs in ses.items():\n",
    "        FCs[sub][op] = {}\n",
    "        for run, items in runs.items():\n",
    "            # if len(items[\"sliced_time_series\"]) == 0:\n",
    "            #     print(sub, op, run, items[\"time_series\"].shape)\n",
    "            #     continue\n",
    "            # FCs[sub][op][run] = {\n",
    "            #     \"entire\" : connectome.ConnectivityMeasure(kind=\"correlation\").fit_transform([items[\"time_series\"]])[0],\n",
    "            #     \"sliced\" : connectome.ConnectivityMeasure(kind=\"correlation\").fit_transform(items[\"sliced_time_series\"])\n",
    "            # }\n",
    "            FCs[sub][op][run] = connectome.ConnectivityMeasure(kind=\"correlation\").fit_transform([items[\"time_series\"]])[0]"
   ]
  },
  {
   "cell_type": "code",
   "execution_count": 5,
   "metadata": {},
   "outputs": [],
   "source": [
    "with open(\"FCs.pkl\", \"wb\") as f:\n",
    "    pickle.dump(FCs, f)"
   ]
  },
  {
   "cell_type": "code",
   "execution_count": 6,
   "metadata": {},
   "outputs": [
    {
     "name": "stderr",
     "output_type": "stream",
     "text": [
      "c:\\Users\\12500\\AppData\\Local\\Programs\\Python\\Python37\\lib\\site-packages\\ipykernel_launcher.py:9: RuntimeWarning: More than 20 figures have been opened. Figures created through the pyplot interface (`matplotlib.pyplot.figure`) are retained until explicitly closed and may consume too much memory. (To control this warning, see the rcParam `figure.max_open_warning`).\n",
      "  if __name__ == '__main__':\n"
     ]
    }
   ],
   "source": [
    "mpl.use(\"agg\")\n",
    "for sub, ses in FCs.items():\n",
    "    FCs[sub] = {}\n",
    "    for op, runs in ses.items():\n",
    "        os.makedirs(f\"fc/{sub}/{op}\", exist_ok=True)\n",
    "        FCs[sub][op] = {}\n",
    "        for run, fc in runs.items():\n",
    "            np.fill_diagonal(fc, 0)\n",
    "            fig_fc, ax_fc = plt.subplots()\n",
    "            fc_display = plotting.plot_matrix(fc, figure=fig_fc, colorbar=True, vmax=0.8, vmin=-0.8)\n",
    "            fig_fc.patch.set_color(\"white\")\n",
    "            fig_fc.savefig(f\"fc/{sub}/{op}/{run}.png\", format=\"png\")\n",
    "            plt.cla()\n",
    "            plt.clf()\n",
    "            plt.close(\"all\")"
   ]
  }
 ],
 "metadata": {
  "kernelspec": {
   "display_name": "Python 3.7.3 64-bit",
   "language": "python",
   "name": "python3"
  },
  "language_info": {
   "codemirror_mode": {
    "name": "ipython",
    "version": 3
   },
   "file_extension": ".py",
   "mimetype": "text/x-python",
   "name": "python",
   "nbconvert_exporter": "python",
   "pygments_lexer": "ipython3",
   "version": "3.7.3"
  },
  "orig_nbformat": 4,
  "vscode": {
   "interpreter": {
    "hash": "887b14c3bf155c2c86854178e2c4969ec2771ba32ccfe4ffdf11cae456a2e83f"
   }
  }
 },
 "nbformat": 4,
 "nbformat_minor": 2
}

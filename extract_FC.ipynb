{
 "cells": [
  {
   "cell_type": "code",
   "execution_count": 1,
   "metadata": {},
   "outputs": [],
   "source": [
    "from nilearn import connectome, plotting, datasets\n",
    "import pickle\n",
    "import numpy as np\n",
    "import os\n",
    "import matplotlib as mpl\n",
    "import matplotlib.pyplot as plt\n",
    "from esfMRI import average_time_series, save_fc, align"
   ]
  },
  {
   "cell_type": "code",
   "execution_count": 2,
   "metadata": {},
   "outputs": [],
   "source": [
    "atlas_labels = datasets.fetch_atlas_aal()['labels']"
   ]
  },
  {
   "cell_type": "code",
   "execution_count": 6,
   "metadata": {},
   "outputs": [],
   "source": [
    "# with open(\"silced_windows.pkl\", \"rb\") as f:\n",
    "with open(\"time_series2.pkl\", \"rb\") as f:\n",
    "    data = pickle.load(f)"
   ]
  },
  {
   "cell_type": "code",
   "execution_count": 7,
   "metadata": {},
   "outputs": [
    {
     "data": {
      "text/plain": [
       "(179, 116)"
      ]
     },
     "execution_count": 7,
     "metadata": {},
     "output_type": "execute_result"
    }
   ],
   "source": [
    "data[\"sub-292\"][\"ses-preop\"][\"run-01\"][\"time_series\"].shape"
   ]
  },
  {
   "cell_type": "code",
   "execution_count": 8,
   "metadata": {},
   "outputs": [],
   "source": [
    "FCs = {} # 所有数据计算得到的功能连接\n",
    "for sub, ses in data.items():\n",
    "    FCs[sub] = {}\n",
    "    for op, runs in ses.items():\n",
    "        FCs[sub][op] = {}\n",
    "        for run, items in runs.items():\n",
    "            # if len(items[\"sliced_time_series\"]) == 0:\n",
    "            #     print(sub, op, run, items[\"time_series\"].shape)\n",
    "            #     continue\n",
    "            # FCs[sub][op][run] = {\n",
    "            #     \"entire\" : connectome.ConnectivityMeasure(kind=\"correlation\").fit_transform([items[\"time_series\"]])[0],\n",
    "            #     \"sliced\" : connectome.ConnectivityMeasure(kind=\"correlation\").fit_transform(items[\"sliced_time_series\"])\n",
    "            # }\n",
    "            FCs[sub][op][run] = connectome.ConnectivityMeasure(kind=\"correlation\").fit_transform([items[\"time_series\"]])[0]"
   ]
  },
  {
   "cell_type": "code",
   "execution_count": 9,
   "metadata": {},
   "outputs": [],
   "source": [
    "with open(\"FCs.pkl\", \"wb\") as f:\n",
    "    pickle.dump(FCs, f)"
   ]
  },
  {
   "cell_type": "code",
   "execution_count": null,
   "metadata": {},
   "outputs": [],
   "source": [
    "# 绘制所有功能连接矩阵\n",
    "mpl.use(\"agg\")\n",
    "for sub, ses in FCs.items():\n",
    "    FCs[sub] = {}\n",
    "    for op, runs in ses.items():\n",
    "        os.makedirs(f\"fc/{sub}/{op}\", exist_ok=True)\n",
    "        FCs[sub][op] = {}\n",
    "        for run, fc in runs.items():\n",
    "            np.fill_diagonal(fc, 0)\n",
    "            fig_fc, ax_fc = plt.subplots()\n",
    "            fc_display = plotting.plot_matrix(fc, labels=atlas_labels, figure=fig_fc, colorbar=True, vmax=0.8, vmin=-0.8)\n",
    "            fig_fc.patch.set_color(\"white\")\n",
    "            fig_fc.savefig(f\"fc/{sub}/{op}/{run}.png\", format=\"png\")\n",
    "            plt.cla()\n",
    "            plt.clf()\n",
    "            plt.close(\"all\")"
   ]
  },
  {
   "cell_type": "code",
   "execution_count": null,
   "metadata": {},
   "outputs": [
    {
     "name": "stdout",
     "output_type": "stream",
     "text": [
      "sub-339 preop\n",
      "sub-357 preop\n",
      "sub-369 preop\n",
      "sub-394 preop\n",
      "sub-395 preop\n",
      "sub-403 preop\n"
     ]
    }
   ],
   "source": [
    "# 组平均\n",
    "align_length_preop = 130\n",
    "align_length_postop = 200\n",
    "averageFC = {}\n",
    "for sub, ses in data.items():\n",
    "    time_series_preop = average_time_series(ses[\"ses-preop\"], align_length_preop)\n",
    "    time_series_postop = average_time_series(ses[\"ses-postop\"], align_length_postop)\n",
    "    if time_series_preop is None or time_series_postop is None:\n",
    "        print(sub, \"preop\" if time_series_preop is None else \"postop\")\n",
    "        continue\n",
    "    fc = connectome.ConnectivityMeasure(kind=\"correlation\").fit_transform([time_series_preop, time_series_postop])\n",
    "    averageFC[sub] = {}\n",
    "    averageFC[sub][\"ses-preop\"] = fc[0]\n",
    "    averageFC[sub][\"ses-postop\"] = fc[1]\n",
    "    save_fc(fc[0], f\"fc/{sub}/average_preop.png\")\n",
    "    save_fc(fc[1], f\"fc/{sub}/average_postop.png\")\n",
    "\n",
    "with open(\"FCs_average.pkl\", \"wb\") as f:\n",
    "    pickle.dump(averageFC, f)"
   ]
  },
  {
   "cell_type": "code",
   "execution_count": null,
   "metadata": {},
   "outputs": [
    {
     "name": "stdout",
     "output_type": "stream",
     "text": [
      "sub-339 preop\n",
      "sub-357 preop\n",
      "sub-369 preop\n",
      "sub-394 preop\n",
      "sub-395 preop\n",
      "sub-403 preop\n"
     ]
    }
   ],
   "source": [
    "# 全体平均\n",
    "align_length_preop = 130\n",
    "align_length_postop = 200\n",
    "total_average_FC = {}\n",
    "time_series_preop = np.zeros((align_length_preop, 116))\n",
    "time_series_postop = np.zeros((align_length_postop, 116))\n",
    "for sub, ses in data.items():\n",
    "    tmp = average_time_series(ses[\"ses-preop\"], align_length_preop)\n",
    "    if tmp is None:\n",
    "        print(sub, \"preop\")\n",
    "        continue\n",
    "    time_series_preop += tmp\n",
    "    tmp = average_time_series(ses[\"ses-postop\"], align_length_postop)\n",
    "    if tmp is None:\n",
    "        print(sub, \"postop\")\n",
    "        continue\n",
    "    time_series_postop += tmp\n",
    "average_time_series_preop = time_series_preop/len(data)\n",
    "average_time_series_postop = time_series_postop/len(data)\n",
    "fc = connectome.ConnectivityMeasure(kind=\"correlation\").fit_transform([average_time_series_preop, average_time_series_postop])\n",
    "total_average_FC[\"ses-preop\"] = fc[0]\n",
    "total_average_FC[\"ses-postop\"] = fc[1]\n",
    "save_fc(fc[0], f\"fc/average_preop.png\")\n",
    "save_fc(fc[1], f\"fc/average_postop.png\")\n",
    "\n",
    "with open(\"FCs_toatl_average.pkl\", \"wb\") as f:\n",
    "    pickle.dump(total_average_FC, f)"
   ]
  }
 ],
 "metadata": {
  "kernelspec": {
   "display_name": "base",
   "language": "python",
   "name": "python3"
  },
  "language_info": {
   "codemirror_mode": {
    "name": "ipython",
    "version": 3
   },
   "file_extension": ".py",
   "mimetype": "text/x-python",
   "name": "python",
   "nbconvert_exporter": "python",
   "pygments_lexer": "ipython3",
   "version": "3.7.3"
  },
  "orig_nbformat": 4,
  "vscode": {
   "interpreter": {
    "hash": "14da249aea668dd476485a6222a8c1fd2f2cd90c7005afa5442c69b6c853f2dc"
   }
  }
 },
 "nbformat": 4,
 "nbformat_minor": 2
}
